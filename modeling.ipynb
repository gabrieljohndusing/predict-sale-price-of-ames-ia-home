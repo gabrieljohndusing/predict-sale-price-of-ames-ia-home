{
 "cells": [
  {
   "cell_type": "markdown",
   "metadata": {},
   "source": [
    "# Modeling\n",
    "\n",
    "## Introduction\n",
    "\n",
    "### Data Science Problem\n",
    "\n",
    "- Can we construct a model predicting the sale price of an Ames, IA home based on certain numeric and categorical features? \n",
    "- Given a predictive model, can we tune its parameters to give the best result?\n",
    "\n",
    "### Methodology\n",
    "\n",
    "In this notebook, we're build a regression model using Ames' housing sale price data set that we cleaned in the notebook titled `eda_and_data_cleaning` -- this is the `ames_cleaned.csv`.\n",
    "\n",
    "We fit and score our models. The regression models that will be used in this notebook are:\n",
    "- Linear Regression\n",
    "- k-Nearest Neigbors\n",
    "- Ridge ($L^2$-norm)\n",
    "- LASSO ($L^1$-norm)\n",
    "\n",
    "To evaluate the effectiveness of each model, we will the following metrics (using `sklearn`'s built-in metrics)\n",
    "\n",
    "### Key Results\n",
    "\n",
    "The most accurate model is the `KNeighborsRegressor`, but it suffers is less interpretable than one of the other linear regression models, particularly LASSO. LASSO tells you which features are important, and which can be eliminated from the model (these have `coefficient = 0`).\n",
    "\n",
    "### Recommendations\n",
    "\n",
    "This model will likely generalize to other Midestern U.S. cities with sales taking place in a comparable time period and city size since most of the features used in this model is information filed with the paperwork used to obtain building permits. Collecting aggregate climate and economic data for the neighborhood the house is located may help the model generalize beyond Ames."
   ]
  },
  {
   "cell_type": "code",
   "execution_count": 1,
   "metadata": {},
   "outputs": [],
   "source": [
    "# Import packages\n",
    "\n",
    "import numpy as np\n",
    "import pandas as pd\n",
    "import matplotlib.pyplot as plt\n",
    "import seaborn as sns\n",
    "\n",
    "%matplotlib inline"
   ]
  },
  {
   "cell_type": "code",
   "execution_count": 2,
   "metadata": {},
   "outputs": [
    {
     "data": {
      "text/plain": [
       "'C:\\\\Users\\\\gabri\\\\Dropbox\\\\General Assembly\\\\git_homeworks\\\\DSI-9-submissions\\\\gabrieljdusing\\\\project_2_submission'"
      ]
     },
     "execution_count": 2,
     "metadata": {},
     "output_type": "execute_result"
    }
   ],
   "source": [
    "%pwd"
   ]
  },
  {
   "cell_type": "code",
   "execution_count": 3,
   "metadata": {},
   "outputs": [],
   "source": [
    "data_path = './datasets/ames_cleaned.csv'"
   ]
  },
  {
   "cell_type": "code",
   "execution_count": 4,
   "metadata": {},
   "outputs": [
    {
     "data": {
      "text/html": [
       "<div>\n",
       "<style scoped>\n",
       "    .dataframe tbody tr th:only-of-type {\n",
       "        vertical-align: middle;\n",
       "    }\n",
       "\n",
       "    .dataframe tbody tr th {\n",
       "        vertical-align: top;\n",
       "    }\n",
       "\n",
       "    .dataframe thead th {\n",
       "        text-align: right;\n",
       "    }\n",
       "</style>\n",
       "<table border=\"1\" class=\"dataframe\">\n",
       "  <thead>\n",
       "    <tr style=\"text-align: right;\">\n",
       "      <th></th>\n",
       "      <th>id</th>\n",
       "      <th>garage_yr_blt</th>\n",
       "      <th>mas_vnr_area</th>\n",
       "      <th>year_built</th>\n",
       "      <th>year_remod/add</th>\n",
       "      <th>gr_liv_area</th>\n",
       "      <th>1st_flr_sf</th>\n",
       "      <th>total_bsmt_sf</th>\n",
       "      <th>totrms_abvgrd</th>\n",
       "      <th>garage_cars</th>\n",
       "      <th>...</th>\n",
       "      <th>fireplace_qu</th>\n",
       "      <th>season_sold</th>\n",
       "      <th>house_style</th>\n",
       "      <th>exter_qual</th>\n",
       "      <th>foundation</th>\n",
       "      <th>bsmt_qual</th>\n",
       "      <th>kitchen_qual</th>\n",
       "      <th>neighborhood</th>\n",
       "      <th>garage_type</th>\n",
       "      <th>bsmtfin_type_1</th>\n",
       "    </tr>\n",
       "  </thead>\n",
       "  <tbody>\n",
       "    <tr>\n",
       "      <th>0</th>\n",
       "      <td>109</td>\n",
       "      <td>1976.0</td>\n",
       "      <td>289.0</td>\n",
       "      <td>1976</td>\n",
       "      <td>2005</td>\n",
       "      <td>1479</td>\n",
       "      <td>725</td>\n",
       "      <td>725.0</td>\n",
       "      <td>6</td>\n",
       "      <td>2.0</td>\n",
       "      <td>...</td>\n",
       "      <td>NaN</td>\n",
       "      <td>spring</td>\n",
       "      <td>2Story</td>\n",
       "      <td>Gd</td>\n",
       "      <td>CBlock</td>\n",
       "      <td>TA</td>\n",
       "      <td>Gd</td>\n",
       "      <td>Sawyer</td>\n",
       "      <td>Attchd</td>\n",
       "      <td>GLQ</td>\n",
       "    </tr>\n",
       "    <tr>\n",
       "      <th>1</th>\n",
       "      <td>544</td>\n",
       "      <td>1997.0</td>\n",
       "      <td>132.0</td>\n",
       "      <td>1996</td>\n",
       "      <td>1997</td>\n",
       "      <td>2122</td>\n",
       "      <td>913</td>\n",
       "      <td>913.0</td>\n",
       "      <td>8</td>\n",
       "      <td>2.0</td>\n",
       "      <td>...</td>\n",
       "      <td>TA</td>\n",
       "      <td>spring</td>\n",
       "      <td>2Story</td>\n",
       "      <td>Gd</td>\n",
       "      <td>PConc</td>\n",
       "      <td>Gd</td>\n",
       "      <td>Gd</td>\n",
       "      <td>SawyerW</td>\n",
       "      <td>Attchd</td>\n",
       "      <td>GLQ</td>\n",
       "    </tr>\n",
       "    <tr>\n",
       "      <th>2</th>\n",
       "      <td>153</td>\n",
       "      <td>1953.0</td>\n",
       "      <td>0.0</td>\n",
       "      <td>1953</td>\n",
       "      <td>2007</td>\n",
       "      <td>1057</td>\n",
       "      <td>1057</td>\n",
       "      <td>1057.0</td>\n",
       "      <td>5</td>\n",
       "      <td>1.0</td>\n",
       "      <td>...</td>\n",
       "      <td>NaN</td>\n",
       "      <td>winter</td>\n",
       "      <td>1Story</td>\n",
       "      <td>TA</td>\n",
       "      <td>CBlock</td>\n",
       "      <td>TA</td>\n",
       "      <td>Gd</td>\n",
       "      <td>NAmes</td>\n",
       "      <td>Detchd</td>\n",
       "      <td>GLQ</td>\n",
       "    </tr>\n",
       "    <tr>\n",
       "      <th>3</th>\n",
       "      <td>318</td>\n",
       "      <td>2007.0</td>\n",
       "      <td>0.0</td>\n",
       "      <td>2006</td>\n",
       "      <td>2007</td>\n",
       "      <td>1444</td>\n",
       "      <td>744</td>\n",
       "      <td>384.0</td>\n",
       "      <td>7</td>\n",
       "      <td>2.0</td>\n",
       "      <td>...</td>\n",
       "      <td>NaN</td>\n",
       "      <td>spring</td>\n",
       "      <td>2Story</td>\n",
       "      <td>TA</td>\n",
       "      <td>PConc</td>\n",
       "      <td>Gd</td>\n",
       "      <td>TA</td>\n",
       "      <td>Timber</td>\n",
       "      <td>BuiltIn</td>\n",
       "      <td>Unf</td>\n",
       "    </tr>\n",
       "    <tr>\n",
       "      <th>4</th>\n",
       "      <td>255</td>\n",
       "      <td>1957.0</td>\n",
       "      <td>0.0</td>\n",
       "      <td>1900</td>\n",
       "      <td>1993</td>\n",
       "      <td>1445</td>\n",
       "      <td>831</td>\n",
       "      <td>676.0</td>\n",
       "      <td>6</td>\n",
       "      <td>2.0</td>\n",
       "      <td>...</td>\n",
       "      <td>NaN</td>\n",
       "      <td>spring</td>\n",
       "      <td>1.5Fin</td>\n",
       "      <td>TA</td>\n",
       "      <td>PConc</td>\n",
       "      <td>Fa</td>\n",
       "      <td>TA</td>\n",
       "      <td>SawyerW</td>\n",
       "      <td>Detchd</td>\n",
       "      <td>Unf</td>\n",
       "    </tr>\n",
       "  </tbody>\n",
       "</table>\n",
       "<p>5 rows × 30 columns</p>\n",
       "</div>"
      ],
      "text/plain": [
       "    id  garage_yr_blt  mas_vnr_area  year_built  year_remod/add  gr_liv_area  \\\n",
       "0  109         1976.0         289.0        1976            2005         1479   \n",
       "1  544         1997.0         132.0        1996            1997         2122   \n",
       "2  153         1953.0           0.0        1953            2007         1057   \n",
       "3  318         2007.0           0.0        2006            2007         1444   \n",
       "4  255         1957.0           0.0        1900            1993         1445   \n",
       "\n",
       "   1st_flr_sf  total_bsmt_sf  totrms_abvgrd  garage_cars  ...  fireplace_qu  \\\n",
       "0         725          725.0              6          2.0  ...           NaN   \n",
       "1         913          913.0              8          2.0  ...            TA   \n",
       "2        1057         1057.0              5          1.0  ...           NaN   \n",
       "3         744          384.0              7          2.0  ...           NaN   \n",
       "4         831          676.0              6          2.0  ...           NaN   \n",
       "\n",
       "   season_sold  house_style  exter_qual foundation bsmt_qual kitchen_qual  \\\n",
       "0       spring       2Story          Gd     CBlock        TA           Gd   \n",
       "1       spring       2Story          Gd      PConc        Gd           Gd   \n",
       "2       winter       1Story          TA     CBlock        TA           Gd   \n",
       "3       spring       2Story          TA      PConc        Gd           TA   \n",
       "4       spring       1.5Fin          TA      PConc        Fa           TA   \n",
       "\n",
       "  neighborhood garage_type bsmtfin_type_1  \n",
       "0       Sawyer      Attchd            GLQ  \n",
       "1      SawyerW      Attchd            GLQ  \n",
       "2        NAmes      Detchd            GLQ  \n",
       "3       Timber     BuiltIn            Unf  \n",
       "4      SawyerW      Detchd            Unf  \n",
       "\n",
       "[5 rows x 30 columns]"
      ]
     },
     "execution_count": 4,
     "metadata": {},
     "output_type": "execute_result"
    }
   ],
   "source": [
    "ames = pd.read_csv(data_path)\n",
    "ames.head(5)"
   ]
  },
  {
   "cell_type": "code",
   "execution_count": 5,
   "metadata": {},
   "outputs": [
    {
     "name": "stdout",
     "output_type": "stream",
     "text": [
      "<class 'pandas.core.frame.DataFrame'>\n",
      "RangeIndex: 1870 entries, 0 to 1869\n",
      "Data columns (total 30 columns):\n",
      " #   Column          Non-Null Count  Dtype  \n",
      "---  ------          --------------  -----  \n",
      " 0   id              1870 non-null   int64  \n",
      " 1   garage_yr_blt   1870 non-null   float64\n",
      " 2   mas_vnr_area    1870 non-null   float64\n",
      " 3   year_built      1870 non-null   int64  \n",
      " 4   year_remod/add  1870 non-null   int64  \n",
      " 5   gr_liv_area     1870 non-null   int64  \n",
      " 6   1st_flr_sf      1870 non-null   int64  \n",
      " 7   total_bsmt_sf   1870 non-null   float64\n",
      " 8   totrms_abvgrd   1870 non-null   int64  \n",
      " 9   garage_cars     1870 non-null   float64\n",
      " 10  saleprice       1870 non-null   int64  \n",
      " 11  garage_area     1870 non-null   float64\n",
      " 12  overall_qual    1870 non-null   int64  \n",
      " 13  full_bath       1870 non-null   int64  \n",
      " 14  exterior_2nd    1870 non-null   object \n",
      " 15  mas_vnr_type    1870 non-null   object \n",
      " 16  garage_finish   1870 non-null   object \n",
      " 17  heating_qc      1870 non-null   object \n",
      " 18  exterior_1st    1870 non-null   object \n",
      " 19  lot_shape       1870 non-null   object \n",
      " 20  fireplace_qu    1018 non-null   object \n",
      " 21  season_sold     1870 non-null   object \n",
      " 22  house_style     1870 non-null   object \n",
      " 23  exter_qual      1870 non-null   object \n",
      " 24  foundation      1870 non-null   object \n",
      " 25  bsmt_qual       1870 non-null   object \n",
      " 26  kitchen_qual    1870 non-null   object \n",
      " 27  neighborhood    1870 non-null   object \n",
      " 28  garage_type     1870 non-null   object \n",
      " 29  bsmtfin_type_1  1870 non-null   object \n",
      "dtypes: float64(5), int64(9), object(16)\n",
      "memory usage: 438.4+ KB\n"
     ]
    }
   ],
   "source": [
    "ames.info()"
   ]
  },
  {
   "cell_type": "code",
   "execution_count": 6,
   "metadata": {},
   "outputs": [],
   "source": [
    "# Pandas imports dataframe and turns 'NA' into np.nan\n",
    "ames.fillna('NA', axis = 1,inplace = True)"
   ]
  },
  {
   "cell_type": "code",
   "execution_count": 7,
   "metadata": {},
   "outputs": [
    {
     "name": "stdout",
     "output_type": "stream",
     "text": [
      "<class 'pandas.core.frame.DataFrame'>\n",
      "Int64Index: 1870 entries, 109 to 10\n",
      "Data columns (total 29 columns):\n",
      " #   Column          Non-Null Count  Dtype  \n",
      "---  ------          --------------  -----  \n",
      " 0   garage_yr_blt   1870 non-null   float64\n",
      " 1   mas_vnr_area    1870 non-null   float64\n",
      " 2   year_built      1870 non-null   int64  \n",
      " 3   year_remod/add  1870 non-null   int64  \n",
      " 4   gr_liv_area     1870 non-null   int64  \n",
      " 5   1st_flr_sf      1870 non-null   int64  \n",
      " 6   total_bsmt_sf   1870 non-null   float64\n",
      " 7   totrms_abvgrd   1870 non-null   int64  \n",
      " 8   garage_cars     1870 non-null   float64\n",
      " 9   saleprice       1870 non-null   int64  \n",
      " 10  garage_area     1870 non-null   float64\n",
      " 11  overall_qual    1870 non-null   int64  \n",
      " 12  full_bath       1870 non-null   int64  \n",
      " 13  exterior_2nd    1870 non-null   object \n",
      " 14  mas_vnr_type    1870 non-null   object \n",
      " 15  garage_finish   1870 non-null   object \n",
      " 16  heating_qc      1870 non-null   object \n",
      " 17  exterior_1st    1870 non-null   object \n",
      " 18  lot_shape       1870 non-null   object \n",
      " 19  fireplace_qu    1870 non-null   object \n",
      " 20  season_sold     1870 non-null   object \n",
      " 21  house_style     1870 non-null   object \n",
      " 22  exter_qual      1870 non-null   object \n",
      " 23  foundation      1870 non-null   object \n",
      " 24  bsmt_qual       1870 non-null   object \n",
      " 25  kitchen_qual    1870 non-null   object \n",
      " 26  neighborhood    1870 non-null   object \n",
      " 27  garage_type     1870 non-null   object \n",
      " 28  bsmtfin_type_1  1870 non-null   object \n",
      "dtypes: float64(5), int64(8), object(16)\n",
      "memory usage: 438.3+ KB\n"
     ]
    }
   ],
   "source": [
    "# Set index to be `id`\n",
    "\n",
    "ames.set_index('id', inplace = True)\n",
    "ames.info()"
   ]
  },
  {
   "cell_type": "code",
   "execution_count": 8,
   "metadata": {},
   "outputs": [
    {
     "data": {
      "text/html": [
       "<div>\n",
       "<style scoped>\n",
       "    .dataframe tbody tr th:only-of-type {\n",
       "        vertical-align: middle;\n",
       "    }\n",
       "\n",
       "    .dataframe tbody tr th {\n",
       "        vertical-align: top;\n",
       "    }\n",
       "\n",
       "    .dataframe thead th {\n",
       "        text-align: right;\n",
       "    }\n",
       "</style>\n",
       "<table border=\"1\" class=\"dataframe\">\n",
       "  <thead>\n",
       "    <tr style=\"text-align: right;\">\n",
       "      <th></th>\n",
       "      <th>garage_yr_blt</th>\n",
       "      <th>mas_vnr_area</th>\n",
       "      <th>year_built</th>\n",
       "      <th>year_remod/add</th>\n",
       "      <th>gr_liv_area</th>\n",
       "      <th>1st_flr_sf</th>\n",
       "      <th>total_bsmt_sf</th>\n",
       "      <th>totrms_abvgrd</th>\n",
       "      <th>garage_cars</th>\n",
       "      <th>saleprice</th>\n",
       "      <th>...</th>\n",
       "      <th>fireplace_qu</th>\n",
       "      <th>season_sold</th>\n",
       "      <th>house_style</th>\n",
       "      <th>exter_qual</th>\n",
       "      <th>foundation</th>\n",
       "      <th>bsmt_qual</th>\n",
       "      <th>kitchen_qual</th>\n",
       "      <th>neighborhood</th>\n",
       "      <th>garage_type</th>\n",
       "      <th>bsmtfin_type_1</th>\n",
       "    </tr>\n",
       "    <tr>\n",
       "      <th>id</th>\n",
       "      <th></th>\n",
       "      <th></th>\n",
       "      <th></th>\n",
       "      <th></th>\n",
       "      <th></th>\n",
       "      <th></th>\n",
       "      <th></th>\n",
       "      <th></th>\n",
       "      <th></th>\n",
       "      <th></th>\n",
       "      <th></th>\n",
       "      <th></th>\n",
       "      <th></th>\n",
       "      <th></th>\n",
       "      <th></th>\n",
       "      <th></th>\n",
       "      <th></th>\n",
       "      <th></th>\n",
       "      <th></th>\n",
       "      <th></th>\n",
       "      <th></th>\n",
       "    </tr>\n",
       "  </thead>\n",
       "  <tbody>\n",
       "    <tr>\n",
       "      <th>109</th>\n",
       "      <td>1976.0</td>\n",
       "      <td>289.0</td>\n",
       "      <td>1976</td>\n",
       "      <td>2005</td>\n",
       "      <td>1479</td>\n",
       "      <td>725</td>\n",
       "      <td>725.0</td>\n",
       "      <td>6</td>\n",
       "      <td>2.0</td>\n",
       "      <td>130500</td>\n",
       "      <td>...</td>\n",
       "      <td>NA</td>\n",
       "      <td>spring</td>\n",
       "      <td>2Story</td>\n",
       "      <td>Gd</td>\n",
       "      <td>CBlock</td>\n",
       "      <td>TA</td>\n",
       "      <td>Gd</td>\n",
       "      <td>Sawyer</td>\n",
       "      <td>Attchd</td>\n",
       "      <td>GLQ</td>\n",
       "    </tr>\n",
       "    <tr>\n",
       "      <th>544</th>\n",
       "      <td>1997.0</td>\n",
       "      <td>132.0</td>\n",
       "      <td>1996</td>\n",
       "      <td>1997</td>\n",
       "      <td>2122</td>\n",
       "      <td>913</td>\n",
       "      <td>913.0</td>\n",
       "      <td>8</td>\n",
       "      <td>2.0</td>\n",
       "      <td>220000</td>\n",
       "      <td>...</td>\n",
       "      <td>TA</td>\n",
       "      <td>spring</td>\n",
       "      <td>2Story</td>\n",
       "      <td>Gd</td>\n",
       "      <td>PConc</td>\n",
       "      <td>Gd</td>\n",
       "      <td>Gd</td>\n",
       "      <td>SawyerW</td>\n",
       "      <td>Attchd</td>\n",
       "      <td>GLQ</td>\n",
       "    </tr>\n",
       "    <tr>\n",
       "      <th>153</th>\n",
       "      <td>1953.0</td>\n",
       "      <td>0.0</td>\n",
       "      <td>1953</td>\n",
       "      <td>2007</td>\n",
       "      <td>1057</td>\n",
       "      <td>1057</td>\n",
       "      <td>1057.0</td>\n",
       "      <td>5</td>\n",
       "      <td>1.0</td>\n",
       "      <td>109000</td>\n",
       "      <td>...</td>\n",
       "      <td>NA</td>\n",
       "      <td>winter</td>\n",
       "      <td>1Story</td>\n",
       "      <td>TA</td>\n",
       "      <td>CBlock</td>\n",
       "      <td>TA</td>\n",
       "      <td>Gd</td>\n",
       "      <td>NAmes</td>\n",
       "      <td>Detchd</td>\n",
       "      <td>GLQ</td>\n",
       "    </tr>\n",
       "    <tr>\n",
       "      <th>318</th>\n",
       "      <td>2007.0</td>\n",
       "      <td>0.0</td>\n",
       "      <td>2006</td>\n",
       "      <td>2007</td>\n",
       "      <td>1444</td>\n",
       "      <td>744</td>\n",
       "      <td>384.0</td>\n",
       "      <td>7</td>\n",
       "      <td>2.0</td>\n",
       "      <td>174000</td>\n",
       "      <td>...</td>\n",
       "      <td>NA</td>\n",
       "      <td>spring</td>\n",
       "      <td>2Story</td>\n",
       "      <td>TA</td>\n",
       "      <td>PConc</td>\n",
       "      <td>Gd</td>\n",
       "      <td>TA</td>\n",
       "      <td>Timber</td>\n",
       "      <td>BuiltIn</td>\n",
       "      <td>Unf</td>\n",
       "    </tr>\n",
       "    <tr>\n",
       "      <th>255</th>\n",
       "      <td>1957.0</td>\n",
       "      <td>0.0</td>\n",
       "      <td>1900</td>\n",
       "      <td>1993</td>\n",
       "      <td>1445</td>\n",
       "      <td>831</td>\n",
       "      <td>676.0</td>\n",
       "      <td>6</td>\n",
       "      <td>2.0</td>\n",
       "      <td>138500</td>\n",
       "      <td>...</td>\n",
       "      <td>NA</td>\n",
       "      <td>spring</td>\n",
       "      <td>1.5Fin</td>\n",
       "      <td>TA</td>\n",
       "      <td>PConc</td>\n",
       "      <td>Fa</td>\n",
       "      <td>TA</td>\n",
       "      <td>SawyerW</td>\n",
       "      <td>Detchd</td>\n",
       "      <td>Unf</td>\n",
       "    </tr>\n",
       "  </tbody>\n",
       "</table>\n",
       "<p>5 rows × 29 columns</p>\n",
       "</div>"
      ],
      "text/plain": [
       "     garage_yr_blt  mas_vnr_area  year_built  year_remod/add  gr_liv_area  \\\n",
       "id                                                                          \n",
       "109         1976.0         289.0        1976            2005         1479   \n",
       "544         1997.0         132.0        1996            1997         2122   \n",
       "153         1953.0           0.0        1953            2007         1057   \n",
       "318         2007.0           0.0        2006            2007         1444   \n",
       "255         1957.0           0.0        1900            1993         1445   \n",
       "\n",
       "     1st_flr_sf  total_bsmt_sf  totrms_abvgrd  garage_cars  saleprice  ...  \\\n",
       "id                                                                     ...   \n",
       "109         725          725.0              6          2.0     130500  ...   \n",
       "544         913          913.0              8          2.0     220000  ...   \n",
       "153        1057         1057.0              5          1.0     109000  ...   \n",
       "318         744          384.0              7          2.0     174000  ...   \n",
       "255         831          676.0              6          2.0     138500  ...   \n",
       "\n",
       "     fireplace_qu  season_sold  house_style exter_qual foundation bsmt_qual  \\\n",
       "id                                                                            \n",
       "109            NA       spring       2Story         Gd     CBlock        TA   \n",
       "544            TA       spring       2Story         Gd      PConc        Gd   \n",
       "153            NA       winter       1Story         TA     CBlock        TA   \n",
       "318            NA       spring       2Story         TA      PConc        Gd   \n",
       "255            NA       spring       1.5Fin         TA      PConc        Fa   \n",
       "\n",
       "    kitchen_qual neighborhood garage_type bsmtfin_type_1  \n",
       "id                                                        \n",
       "109           Gd       Sawyer      Attchd            GLQ  \n",
       "544           Gd      SawyerW      Attchd            GLQ  \n",
       "153           Gd        NAmes      Detchd            GLQ  \n",
       "318           TA       Timber     BuiltIn            Unf  \n",
       "255           TA      SawyerW      Detchd            Unf  \n",
       "\n",
       "[5 rows x 29 columns]"
      ]
     },
     "execution_count": 8,
     "metadata": {},
     "output_type": "execute_result"
    }
   ],
   "source": [
    "ames.head(5)"
   ]
  },
  {
   "cell_type": "code",
   "execution_count": 9,
   "metadata": {
    "scrolled": true
   },
   "outputs": [
    {
     "data": {
      "text/html": [
       "<div>\n",
       "<style scoped>\n",
       "    .dataframe tbody tr th:only-of-type {\n",
       "        vertical-align: middle;\n",
       "    }\n",
       "\n",
       "    .dataframe tbody tr th {\n",
       "        vertical-align: top;\n",
       "    }\n",
       "\n",
       "    .dataframe thead th {\n",
       "        text-align: right;\n",
       "    }\n",
       "</style>\n",
       "<table border=\"1\" class=\"dataframe\">\n",
       "  <thead>\n",
       "    <tr style=\"text-align: right;\">\n",
       "      <th></th>\n",
       "      <th>garage_yr_blt</th>\n",
       "      <th>mas_vnr_area</th>\n",
       "      <th>year_built</th>\n",
       "      <th>year_remod/add</th>\n",
       "      <th>gr_liv_area</th>\n",
       "      <th>1st_flr_sf</th>\n",
       "      <th>total_bsmt_sf</th>\n",
       "      <th>totrms_abvgrd</th>\n",
       "      <th>garage_cars</th>\n",
       "      <th>saleprice</th>\n",
       "      <th>garage_area</th>\n",
       "      <th>overall_qual</th>\n",
       "      <th>full_bath</th>\n",
       "    </tr>\n",
       "  </thead>\n",
       "  <tbody>\n",
       "    <tr>\n",
       "      <th>count</th>\n",
       "      <td>1870.000000</td>\n",
       "      <td>1870.000000</td>\n",
       "      <td>1870.000000</td>\n",
       "      <td>1870.000000</td>\n",
       "      <td>1870.000000</td>\n",
       "      <td>1870.000000</td>\n",
       "      <td>1870.000000</td>\n",
       "      <td>1870.000000</td>\n",
       "      <td>1870.000000</td>\n",
       "      <td>1870.000000</td>\n",
       "      <td>1870.000000</td>\n",
       "      <td>1870.000000</td>\n",
       "      <td>1870.000000</td>\n",
       "    </tr>\n",
       "    <tr>\n",
       "      <th>mean</th>\n",
       "      <td>1978.702674</td>\n",
       "      <td>106.498396</td>\n",
       "      <td>1973.508556</td>\n",
       "      <td>1985.065241</td>\n",
       "      <td>1516.147059</td>\n",
       "      <td>1176.400535</td>\n",
       "      <td>1097.502674</td>\n",
       "      <td>6.448663</td>\n",
       "      <td>1.881283</td>\n",
       "      <td>187090.068984</td>\n",
       "      <td>501.789840</td>\n",
       "      <td>6.234225</td>\n",
       "      <td>1.583422</td>\n",
       "    </tr>\n",
       "    <tr>\n",
       "      <th>std</th>\n",
       "      <td>24.921929</td>\n",
       "      <td>179.438598</td>\n",
       "      <td>29.278001</td>\n",
       "      <td>20.626699</td>\n",
       "      <td>494.705792</td>\n",
       "      <td>394.077755</td>\n",
       "      <td>421.047464</td>\n",
       "      <td>1.516552</td>\n",
       "      <td>0.652462</td>\n",
       "      <td>78641.415548</td>\n",
       "      <td>189.190049</td>\n",
       "      <td>1.359313</td>\n",
       "      <td>0.544679</td>\n",
       "    </tr>\n",
       "    <tr>\n",
       "      <th>min</th>\n",
       "      <td>1895.000000</td>\n",
       "      <td>0.000000</td>\n",
       "      <td>1879.000000</td>\n",
       "      <td>1950.000000</td>\n",
       "      <td>438.000000</td>\n",
       "      <td>438.000000</td>\n",
       "      <td>160.000000</td>\n",
       "      <td>3.000000</td>\n",
       "      <td>1.000000</td>\n",
       "      <td>12789.000000</td>\n",
       "      <td>100.000000</td>\n",
       "      <td>2.000000</td>\n",
       "      <td>0.000000</td>\n",
       "    </tr>\n",
       "    <tr>\n",
       "      <th>25%</th>\n",
       "      <td>1961.000000</td>\n",
       "      <td>0.000000</td>\n",
       "      <td>1956.000000</td>\n",
       "      <td>1966.250000</td>\n",
       "      <td>1152.000000</td>\n",
       "      <td>889.000000</td>\n",
       "      <td>819.000000</td>\n",
       "      <td>5.000000</td>\n",
       "      <td>1.000000</td>\n",
       "      <td>135000.000000</td>\n",
       "      <td>366.000000</td>\n",
       "      <td>5.000000</td>\n",
       "      <td>1.000000</td>\n",
       "    </tr>\n",
       "    <tr>\n",
       "      <th>50%</th>\n",
       "      <td>1980.000000</td>\n",
       "      <td>0.000000</td>\n",
       "      <td>1976.000000</td>\n",
       "      <td>1994.000000</td>\n",
       "      <td>1458.000000</td>\n",
       "      <td>1105.000000</td>\n",
       "      <td>1028.500000</td>\n",
       "      <td>6.000000</td>\n",
       "      <td>2.000000</td>\n",
       "      <td>167900.000000</td>\n",
       "      <td>484.000000</td>\n",
       "      <td>6.000000</td>\n",
       "      <td>2.000000</td>\n",
       "    </tr>\n",
       "    <tr>\n",
       "      <th>75%</th>\n",
       "      <td>2002.000000</td>\n",
       "      <td>172.000000</td>\n",
       "      <td>2002.000000</td>\n",
       "      <td>2004.000000</td>\n",
       "      <td>1735.500000</td>\n",
       "      <td>1422.000000</td>\n",
       "      <td>1342.000000</td>\n",
       "      <td>7.000000</td>\n",
       "      <td>2.000000</td>\n",
       "      <td>218375.000000</td>\n",
       "      <td>586.000000</td>\n",
       "      <td>7.000000</td>\n",
       "      <td>2.000000</td>\n",
       "    </tr>\n",
       "    <tr>\n",
       "      <th>max</th>\n",
       "      <td>2010.000000</td>\n",
       "      <td>1600.000000</td>\n",
       "      <td>2010.000000</td>\n",
       "      <td>2010.000000</td>\n",
       "      <td>5642.000000</td>\n",
       "      <td>5095.000000</td>\n",
       "      <td>6110.000000</td>\n",
       "      <td>15.000000</td>\n",
       "      <td>5.000000</td>\n",
       "      <td>611657.000000</td>\n",
       "      <td>1418.000000</td>\n",
       "      <td>10.000000</td>\n",
       "      <td>4.000000</td>\n",
       "    </tr>\n",
       "  </tbody>\n",
       "</table>\n",
       "</div>"
      ],
      "text/plain": [
       "       garage_yr_blt  mas_vnr_area   year_built  year_remod/add  gr_liv_area  \\\n",
       "count    1870.000000   1870.000000  1870.000000     1870.000000  1870.000000   \n",
       "mean     1978.702674    106.498396  1973.508556     1985.065241  1516.147059   \n",
       "std        24.921929    179.438598    29.278001       20.626699   494.705792   \n",
       "min      1895.000000      0.000000  1879.000000     1950.000000   438.000000   \n",
       "25%      1961.000000      0.000000  1956.000000     1966.250000  1152.000000   \n",
       "50%      1980.000000      0.000000  1976.000000     1994.000000  1458.000000   \n",
       "75%      2002.000000    172.000000  2002.000000     2004.000000  1735.500000   \n",
       "max      2010.000000   1600.000000  2010.000000     2010.000000  5642.000000   \n",
       "\n",
       "        1st_flr_sf  total_bsmt_sf  totrms_abvgrd  garage_cars      saleprice  \\\n",
       "count  1870.000000    1870.000000    1870.000000  1870.000000    1870.000000   \n",
       "mean   1176.400535    1097.502674       6.448663     1.881283  187090.068984   \n",
       "std     394.077755     421.047464       1.516552     0.652462   78641.415548   \n",
       "min     438.000000     160.000000       3.000000     1.000000   12789.000000   \n",
       "25%     889.000000     819.000000       5.000000     1.000000  135000.000000   \n",
       "50%    1105.000000    1028.500000       6.000000     2.000000  167900.000000   \n",
       "75%    1422.000000    1342.000000       7.000000     2.000000  218375.000000   \n",
       "max    5095.000000    6110.000000      15.000000     5.000000  611657.000000   \n",
       "\n",
       "       garage_area  overall_qual    full_bath  \n",
       "count  1870.000000   1870.000000  1870.000000  \n",
       "mean    501.789840      6.234225     1.583422  \n",
       "std     189.190049      1.359313     0.544679  \n",
       "min     100.000000      2.000000     0.000000  \n",
       "25%     366.000000      5.000000     1.000000  \n",
       "50%     484.000000      6.000000     2.000000  \n",
       "75%     586.000000      7.000000     2.000000  \n",
       "max    1418.000000     10.000000     4.000000  "
      ]
     },
     "execution_count": 9,
     "metadata": {},
     "output_type": "execute_result"
    }
   ],
   "source": [
    "ames.describe()"
   ]
  },
  {
   "cell_type": "code",
   "execution_count": 10,
   "metadata": {},
   "outputs": [],
   "source": [
    "X = ames.drop(['saleprice','exterior_1st','exterior_2nd'], axis = 1)\n",
    "# `exterior_1st` and `exterior_2nd` are dropped\n",
    "# One of the categories `CBlock` was causing problems\n",
    "\n",
    "y = ames['saleprice']"
   ]
  },
  {
   "cell_type": "code",
   "execution_count": 11,
   "metadata": {
    "scrolled": true
   },
   "outputs": [
    {
     "data": {
      "text/html": [
       "<div>\n",
       "<style scoped>\n",
       "    .dataframe tbody tr th:only-of-type {\n",
       "        vertical-align: middle;\n",
       "    }\n",
       "\n",
       "    .dataframe tbody tr th {\n",
       "        vertical-align: top;\n",
       "    }\n",
       "\n",
       "    .dataframe thead th {\n",
       "        text-align: right;\n",
       "    }\n",
       "</style>\n",
       "<table border=\"1\" class=\"dataframe\">\n",
       "  <thead>\n",
       "    <tr style=\"text-align: right;\">\n",
       "      <th></th>\n",
       "      <th>garage_yr_blt</th>\n",
       "      <th>mas_vnr_area</th>\n",
       "      <th>year_built</th>\n",
       "      <th>year_remod/add</th>\n",
       "      <th>gr_liv_area</th>\n",
       "      <th>1st_flr_sf</th>\n",
       "      <th>total_bsmt_sf</th>\n",
       "      <th>totrms_abvgrd</th>\n",
       "      <th>garage_cars</th>\n",
       "      <th>garage_area</th>\n",
       "      <th>...</th>\n",
       "      <th>fireplace_qu</th>\n",
       "      <th>season_sold</th>\n",
       "      <th>house_style</th>\n",
       "      <th>exter_qual</th>\n",
       "      <th>foundation</th>\n",
       "      <th>bsmt_qual</th>\n",
       "      <th>kitchen_qual</th>\n",
       "      <th>neighborhood</th>\n",
       "      <th>garage_type</th>\n",
       "      <th>bsmtfin_type_1</th>\n",
       "    </tr>\n",
       "    <tr>\n",
       "      <th>id</th>\n",
       "      <th></th>\n",
       "      <th></th>\n",
       "      <th></th>\n",
       "      <th></th>\n",
       "      <th></th>\n",
       "      <th></th>\n",
       "      <th></th>\n",
       "      <th></th>\n",
       "      <th></th>\n",
       "      <th></th>\n",
       "      <th></th>\n",
       "      <th></th>\n",
       "      <th></th>\n",
       "      <th></th>\n",
       "      <th></th>\n",
       "      <th></th>\n",
       "      <th></th>\n",
       "      <th></th>\n",
       "      <th></th>\n",
       "      <th></th>\n",
       "      <th></th>\n",
       "    </tr>\n",
       "  </thead>\n",
       "  <tbody>\n",
       "    <tr>\n",
       "      <th>109</th>\n",
       "      <td>1976.0</td>\n",
       "      <td>289.0</td>\n",
       "      <td>1976</td>\n",
       "      <td>2005</td>\n",
       "      <td>1479</td>\n",
       "      <td>725</td>\n",
       "      <td>725.0</td>\n",
       "      <td>6</td>\n",
       "      <td>2.0</td>\n",
       "      <td>475.0</td>\n",
       "      <td>...</td>\n",
       "      <td>NA</td>\n",
       "      <td>spring</td>\n",
       "      <td>2Story</td>\n",
       "      <td>Gd</td>\n",
       "      <td>CBlock</td>\n",
       "      <td>TA</td>\n",
       "      <td>Gd</td>\n",
       "      <td>Sawyer</td>\n",
       "      <td>Attchd</td>\n",
       "      <td>GLQ</td>\n",
       "    </tr>\n",
       "    <tr>\n",
       "      <th>544</th>\n",
       "      <td>1997.0</td>\n",
       "      <td>132.0</td>\n",
       "      <td>1996</td>\n",
       "      <td>1997</td>\n",
       "      <td>2122</td>\n",
       "      <td>913</td>\n",
       "      <td>913.0</td>\n",
       "      <td>8</td>\n",
       "      <td>2.0</td>\n",
       "      <td>559.0</td>\n",
       "      <td>...</td>\n",
       "      <td>TA</td>\n",
       "      <td>spring</td>\n",
       "      <td>2Story</td>\n",
       "      <td>Gd</td>\n",
       "      <td>PConc</td>\n",
       "      <td>Gd</td>\n",
       "      <td>Gd</td>\n",
       "      <td>SawyerW</td>\n",
       "      <td>Attchd</td>\n",
       "      <td>GLQ</td>\n",
       "    </tr>\n",
       "    <tr>\n",
       "      <th>153</th>\n",
       "      <td>1953.0</td>\n",
       "      <td>0.0</td>\n",
       "      <td>1953</td>\n",
       "      <td>2007</td>\n",
       "      <td>1057</td>\n",
       "      <td>1057</td>\n",
       "      <td>1057.0</td>\n",
       "      <td>5</td>\n",
       "      <td>1.0</td>\n",
       "      <td>246.0</td>\n",
       "      <td>...</td>\n",
       "      <td>NA</td>\n",
       "      <td>winter</td>\n",
       "      <td>1Story</td>\n",
       "      <td>TA</td>\n",
       "      <td>CBlock</td>\n",
       "      <td>TA</td>\n",
       "      <td>Gd</td>\n",
       "      <td>NAmes</td>\n",
       "      <td>Detchd</td>\n",
       "      <td>GLQ</td>\n",
       "    </tr>\n",
       "    <tr>\n",
       "      <th>318</th>\n",
       "      <td>2007.0</td>\n",
       "      <td>0.0</td>\n",
       "      <td>2006</td>\n",
       "      <td>2007</td>\n",
       "      <td>1444</td>\n",
       "      <td>744</td>\n",
       "      <td>384.0</td>\n",
       "      <td>7</td>\n",
       "      <td>2.0</td>\n",
       "      <td>400.0</td>\n",
       "      <td>...</td>\n",
       "      <td>NA</td>\n",
       "      <td>spring</td>\n",
       "      <td>2Story</td>\n",
       "      <td>TA</td>\n",
       "      <td>PConc</td>\n",
       "      <td>Gd</td>\n",
       "      <td>TA</td>\n",
       "      <td>Timber</td>\n",
       "      <td>BuiltIn</td>\n",
       "      <td>Unf</td>\n",
       "    </tr>\n",
       "    <tr>\n",
       "      <th>255</th>\n",
       "      <td>1957.0</td>\n",
       "      <td>0.0</td>\n",
       "      <td>1900</td>\n",
       "      <td>1993</td>\n",
       "      <td>1445</td>\n",
       "      <td>831</td>\n",
       "      <td>676.0</td>\n",
       "      <td>6</td>\n",
       "      <td>2.0</td>\n",
       "      <td>484.0</td>\n",
       "      <td>...</td>\n",
       "      <td>NA</td>\n",
       "      <td>spring</td>\n",
       "      <td>1.5Fin</td>\n",
       "      <td>TA</td>\n",
       "      <td>PConc</td>\n",
       "      <td>Fa</td>\n",
       "      <td>TA</td>\n",
       "      <td>SawyerW</td>\n",
       "      <td>Detchd</td>\n",
       "      <td>Unf</td>\n",
       "    </tr>\n",
       "    <tr>\n",
       "      <th>...</th>\n",
       "      <td>...</td>\n",
       "      <td>...</td>\n",
       "      <td>...</td>\n",
       "      <td>...</td>\n",
       "      <td>...</td>\n",
       "      <td>...</td>\n",
       "      <td>...</td>\n",
       "      <td>...</td>\n",
       "      <td>...</td>\n",
       "      <td>...</td>\n",
       "      <td>...</td>\n",
       "      <td>...</td>\n",
       "      <td>...</td>\n",
       "      <td>...</td>\n",
       "      <td>...</td>\n",
       "      <td>...</td>\n",
       "      <td>...</td>\n",
       "      <td>...</td>\n",
       "      <td>...</td>\n",
       "      <td>...</td>\n",
       "      <td>...</td>\n",
       "    </tr>\n",
       "    <tr>\n",
       "      <th>1587</th>\n",
       "      <td>2007.0</td>\n",
       "      <td>0.0</td>\n",
       "      <td>2007</td>\n",
       "      <td>2007</td>\n",
       "      <td>1728</td>\n",
       "      <td>1728</td>\n",
       "      <td>1884.0</td>\n",
       "      <td>7</td>\n",
       "      <td>2.0</td>\n",
       "      <td>520.0</td>\n",
       "      <td>...</td>\n",
       "      <td>Gd</td>\n",
       "      <td>winter</td>\n",
       "      <td>1Story</td>\n",
       "      <td>Gd</td>\n",
       "      <td>PConc</td>\n",
       "      <td>Gd</td>\n",
       "      <td>Gd</td>\n",
       "      <td>Timber</td>\n",
       "      <td>Attchd</td>\n",
       "      <td>GLQ</td>\n",
       "    </tr>\n",
       "    <tr>\n",
       "      <th>785</th>\n",
       "      <td>1961.0</td>\n",
       "      <td>0.0</td>\n",
       "      <td>1940</td>\n",
       "      <td>1950</td>\n",
       "      <td>861</td>\n",
       "      <td>861</td>\n",
       "      <td>861.0</td>\n",
       "      <td>4</td>\n",
       "      <td>2.0</td>\n",
       "      <td>539.0</td>\n",
       "      <td>...</td>\n",
       "      <td>NA</td>\n",
       "      <td>spring</td>\n",
       "      <td>1Story</td>\n",
       "      <td>TA</td>\n",
       "      <td>CBlock</td>\n",
       "      <td>TA</td>\n",
       "      <td>TA</td>\n",
       "      <td>Edwards</td>\n",
       "      <td>Detchd</td>\n",
       "      <td>BLQ</td>\n",
       "    </tr>\n",
       "    <tr>\n",
       "      <th>916</th>\n",
       "      <td>1929.0</td>\n",
       "      <td>0.0</td>\n",
       "      <td>1928</td>\n",
       "      <td>1950</td>\n",
       "      <td>1913</td>\n",
       "      <td>1172</td>\n",
       "      <td>896.0</td>\n",
       "      <td>9</td>\n",
       "      <td>2.0</td>\n",
       "      <td>342.0</td>\n",
       "      <td>...</td>\n",
       "      <td>TA</td>\n",
       "      <td>spring</td>\n",
       "      <td>1.5Fin</td>\n",
       "      <td>TA</td>\n",
       "      <td>BrkTil</td>\n",
       "      <td>TA</td>\n",
       "      <td>TA</td>\n",
       "      <td>Crawfor</td>\n",
       "      <td>Detchd</td>\n",
       "      <td>Unf</td>\n",
       "    </tr>\n",
       "    <tr>\n",
       "      <th>639</th>\n",
       "      <td>1956.0</td>\n",
       "      <td>0.0</td>\n",
       "      <td>1956</td>\n",
       "      <td>1956</td>\n",
       "      <td>1200</td>\n",
       "      <td>1200</td>\n",
       "      <td>1200.0</td>\n",
       "      <td>6</td>\n",
       "      <td>1.0</td>\n",
       "      <td>294.0</td>\n",
       "      <td>...</td>\n",
       "      <td>Gd</td>\n",
       "      <td>winter</td>\n",
       "      <td>1Story</td>\n",
       "      <td>TA</td>\n",
       "      <td>CBlock</td>\n",
       "      <td>TA</td>\n",
       "      <td>TA</td>\n",
       "      <td>NAmes</td>\n",
       "      <td>Attchd</td>\n",
       "      <td>Rec</td>\n",
       "    </tr>\n",
       "    <tr>\n",
       "      <th>10</th>\n",
       "      <td>1999.0</td>\n",
       "      <td>0.0</td>\n",
       "      <td>1999</td>\n",
       "      <td>1999</td>\n",
       "      <td>1804</td>\n",
       "      <td>1028</td>\n",
       "      <td>994.0</td>\n",
       "      <td>7</td>\n",
       "      <td>2.0</td>\n",
       "      <td>442.0</td>\n",
       "      <td>...</td>\n",
       "      <td>TA</td>\n",
       "      <td>summer</td>\n",
       "      <td>2Story</td>\n",
       "      <td>TA</td>\n",
       "      <td>PConc</td>\n",
       "      <td>TA</td>\n",
       "      <td>Gd</td>\n",
       "      <td>Gilbert</td>\n",
       "      <td>Attchd</td>\n",
       "      <td>Unf</td>\n",
       "    </tr>\n",
       "  </tbody>\n",
       "</table>\n",
       "<p>1870 rows × 26 columns</p>\n",
       "</div>"
      ],
      "text/plain": [
       "      garage_yr_blt  mas_vnr_area  year_built  year_remod/add  gr_liv_area  \\\n",
       "id                                                                           \n",
       "109          1976.0         289.0        1976            2005         1479   \n",
       "544          1997.0         132.0        1996            1997         2122   \n",
       "153          1953.0           0.0        1953            2007         1057   \n",
       "318          2007.0           0.0        2006            2007         1444   \n",
       "255          1957.0           0.0        1900            1993         1445   \n",
       "...             ...           ...         ...             ...          ...   \n",
       "1587         2007.0           0.0        2007            2007         1728   \n",
       "785          1961.0           0.0        1940            1950          861   \n",
       "916          1929.0           0.0        1928            1950         1913   \n",
       "639          1956.0           0.0        1956            1956         1200   \n",
       "10           1999.0           0.0        1999            1999         1804   \n",
       "\n",
       "      1st_flr_sf  total_bsmt_sf  totrms_abvgrd  garage_cars  garage_area  ...  \\\n",
       "id                                                                        ...   \n",
       "109          725          725.0              6          2.0        475.0  ...   \n",
       "544          913          913.0              8          2.0        559.0  ...   \n",
       "153         1057         1057.0              5          1.0        246.0  ...   \n",
       "318          744          384.0              7          2.0        400.0  ...   \n",
       "255          831          676.0              6          2.0        484.0  ...   \n",
       "...          ...            ...            ...          ...          ...  ...   \n",
       "1587        1728         1884.0              7          2.0        520.0  ...   \n",
       "785          861          861.0              4          2.0        539.0  ...   \n",
       "916         1172          896.0              9          2.0        342.0  ...   \n",
       "639         1200         1200.0              6          1.0        294.0  ...   \n",
       "10          1028          994.0              7          2.0        442.0  ...   \n",
       "\n",
       "      fireplace_qu  season_sold house_style exter_qual foundation bsmt_qual  \\\n",
       "id                                                                            \n",
       "109             NA       spring      2Story         Gd     CBlock        TA   \n",
       "544             TA       spring      2Story         Gd      PConc        Gd   \n",
       "153             NA       winter      1Story         TA     CBlock        TA   \n",
       "318             NA       spring      2Story         TA      PConc        Gd   \n",
       "255             NA       spring      1.5Fin         TA      PConc        Fa   \n",
       "...            ...          ...         ...        ...        ...       ...   \n",
       "1587            Gd       winter      1Story         Gd      PConc        Gd   \n",
       "785             NA       spring      1Story         TA     CBlock        TA   \n",
       "916             TA       spring      1.5Fin         TA     BrkTil        TA   \n",
       "639             Gd       winter      1Story         TA     CBlock        TA   \n",
       "10              TA       summer      2Story         TA      PConc        TA   \n",
       "\n",
       "     kitchen_qual neighborhood garage_type bsmtfin_type_1  \n",
       "id                                                         \n",
       "109            Gd       Sawyer      Attchd            GLQ  \n",
       "544            Gd      SawyerW      Attchd            GLQ  \n",
       "153            Gd        NAmes      Detchd            GLQ  \n",
       "318            TA       Timber     BuiltIn            Unf  \n",
       "255            TA      SawyerW      Detchd            Unf  \n",
       "...           ...          ...         ...            ...  \n",
       "1587           Gd       Timber      Attchd            GLQ  \n",
       "785            TA      Edwards      Detchd            BLQ  \n",
       "916            TA      Crawfor      Detchd            Unf  \n",
       "639            TA        NAmes      Attchd            Rec  \n",
       "10             Gd      Gilbert      Attchd            Unf  \n",
       "\n",
       "[1870 rows x 26 columns]"
      ]
     },
     "execution_count": 11,
     "metadata": {},
     "output_type": "execute_result"
    }
   ],
   "source": [
    "X"
   ]
  },
  {
   "cell_type": "code",
   "execution_count": 12,
   "metadata": {
    "scrolled": false
   },
   "outputs": [
    {
     "data": {
      "text/plain": [
       "id\n",
       "109     130500\n",
       "544     220000\n",
       "153     109000\n",
       "318     174000\n",
       "255     138500\n",
       "         ...  \n",
       "1587    298751\n",
       "785      82500\n",
       "916     177000\n",
       "639     144000\n",
       "10      189000\n",
       "Name: saleprice, Length: 1870, dtype: int64"
      ]
     },
     "execution_count": 12,
     "metadata": {},
     "output_type": "execute_result"
    }
   ],
   "source": [
    "y"
   ]
  },
  {
   "cell_type": "code",
   "execution_count": 13,
   "metadata": {},
   "outputs": [],
   "source": [
    "# Train-test split\n",
    "from sklearn.model_selection import train_test_split, cross_val_score"
   ]
  },
  {
   "cell_type": "code",
   "execution_count": 14,
   "metadata": {},
   "outputs": [],
   "source": [
    "X_train, X_test, y_train, y_test = train_test_split(X, y, random_state = 42)"
   ]
  },
  {
   "cell_type": "code",
   "execution_count": 15,
   "metadata": {},
   "outputs": [
    {
     "data": {
      "text/plain": [
       "(1402, 26)"
      ]
     },
     "execution_count": 15,
     "metadata": {},
     "output_type": "execute_result"
    }
   ],
   "source": [
    "X_train.shape"
   ]
  },
  {
   "cell_type": "code",
   "execution_count": 16,
   "metadata": {},
   "outputs": [
    {
     "data": {
      "text/plain": [
       "(468, 26)"
      ]
     },
     "execution_count": 16,
     "metadata": {},
     "output_type": "execute_result"
    }
   ],
   "source": [
    "X_test.shape"
   ]
  },
  {
   "cell_type": "markdown",
   "metadata": {},
   "source": [
    "## Preprocessing Pipeline\n",
    "\n",
    "We will one-hot encode our categorical features, and scale our data"
   ]
  },
  {
   "cell_type": "code",
   "execution_count": 17,
   "metadata": {
    "scrolled": false
   },
   "outputs": [
    {
     "name": "stdout",
     "output_type": "stream",
     "text": [
      "mas_vnr_type \n",
      "\n",
      "None       0.574332\n",
      "BrkFace    0.329412\n",
      "Stone      0.089840\n",
      "BrkCmn     0.006417\n",
      "Name: mas_vnr_type, dtype: float64\n",
      "\n",
      "\n",
      "garage_finish \n",
      "\n",
      "Unf    0.433155\n",
      "RFn    0.302674\n",
      "Fin    0.264171\n",
      "Name: garage_finish, dtype: float64\n",
      "\n",
      "\n",
      "heating_qc \n",
      "\n",
      "Ex    0.537433\n",
      "TA    0.279679\n",
      "Gd    0.156150\n",
      "Fa    0.025668\n",
      "Po    0.001070\n",
      "Name: heating_qc, dtype: float64\n",
      "\n",
      "\n",
      "lot_shape \n",
      "\n",
      "Reg    0.615508\n",
      "IR1    0.351337\n",
      "IR2    0.028342\n",
      "IR3    0.004813\n",
      "Name: lot_shape, dtype: float64\n",
      "\n",
      "\n",
      "fireplace_qu \n",
      "\n",
      "NA    0.455615\n",
      "Gd    0.269519\n",
      "TA    0.212299\n",
      "Fa    0.031551\n",
      "Ex    0.015508\n",
      "Po    0.015508\n",
      "Name: fireplace_qu, dtype: float64\n",
      "\n",
      "\n",
      "season_sold \n",
      "\n",
      "summer    0.451872\n",
      "spring    0.229947\n",
      "fall      0.190909\n",
      "winter    0.127273\n",
      "Name: season_sold, dtype: float64\n",
      "\n",
      "\n",
      "house_style \n",
      "\n",
      "1Story    0.511765\n",
      "2Story    0.298396\n",
      "1.5Fin    0.103743\n",
      "SLvl      0.049733\n",
      "SFoyer    0.022460\n",
      "2.5Unf    0.006952\n",
      "1.5Unf    0.004813\n",
      "2.5Fin    0.002139\n",
      "Name: house_style, dtype: float64\n",
      "\n",
      "\n",
      "exter_qual \n",
      "\n",
      "TA    0.593048\n",
      "Gd    0.357219\n",
      "Ex    0.042781\n",
      "Fa    0.006952\n",
      "Name: exter_qual, dtype: float64\n",
      "\n",
      "\n",
      "foundation \n",
      "\n",
      "PConc     0.469519\n",
      "CBlock    0.421925\n",
      "BrkTil    0.105348\n",
      "Stone     0.002139\n",
      "Wood      0.001070\n",
      "Name: foundation, dtype: float64\n",
      "\n",
      "\n",
      "bsmt_qual \n",
      "\n",
      "Gd    0.441711\n",
      "TA    0.436364\n",
      "Ex    0.094652\n",
      "Fa    0.026738\n",
      "Po    0.000535\n",
      "Name: bsmt_qual, dtype: float64\n",
      "\n",
      "\n",
      "kitchen_qual \n",
      "\n",
      "TA    0.494652\n",
      "Gd    0.412299\n",
      "Ex    0.077540\n",
      "Fa    0.015508\n",
      "Name: kitchen_qual, dtype: float64\n",
      "\n",
      "\n",
      "neighborhood \n",
      "\n",
      "NAmes      0.155615\n",
      "CollgCr    0.094652\n",
      "OldTown    0.074866\n",
      "NridgHt    0.064171\n",
      "Somerst    0.064171\n",
      "Gilbert    0.058824\n",
      "Sawyer     0.055615\n",
      "Edwards    0.054545\n",
      "NWAmes     0.046524\n",
      "Mitchel    0.040107\n",
      "SawyerW    0.039572\n",
      "Crawfor    0.037433\n",
      "BrkSide    0.035294\n",
      "NoRidge    0.025668\n",
      "IDOTRR     0.025134\n",
      "Timber     0.025134\n",
      "StoneBr    0.020321\n",
      "SWISU      0.014439\n",
      "ClearCr    0.013369\n",
      "Blmngtn    0.011765\n",
      "BrDale     0.009626\n",
      "NPkVill    0.009091\n",
      "MeadowV    0.009091\n",
      "Veenker    0.009091\n",
      "Blueste    0.003209\n",
      "Greens     0.001604\n",
      "GrnHill    0.000535\n",
      "Landmrk    0.000535\n",
      "Name: neighborhood, dtype: float64\n",
      "\n",
      "\n",
      "garage_type \n",
      "\n",
      "Attchd     0.628342\n",
      "Detchd     0.274866\n",
      "BuiltIn    0.068449\n",
      "Basment    0.014439\n",
      "2Types     0.009626\n",
      "CarPort    0.004278\n",
      "Name: garage_type, dtype: float64\n",
      "\n",
      "\n",
      "bsmtfin_type_1 \n",
      "\n",
      "GLQ    0.314973\n",
      "Unf    0.285561\n",
      "ALQ    0.149198\n",
      "BLQ    0.103743\n",
      "Rec    0.094118\n",
      "LwQ    0.052406\n",
      "Name: bsmtfin_type_1, dtype: float64\n",
      "\n",
      "\n"
     ]
    }
   ],
   "source": [
    "# Categorical columns will be one-hot encoded. Create a list of these columns.\n",
    "\n",
    "categorical_columns = [column for (column, type_) in zip(X.dtypes.index, X.dtypes.values) if type_ == 'O']\n",
    "\n",
    "for column in categorical_columns:\n",
    "    print(f'{column} \\n')\n",
    "    print(ames.loc[:,column].value_counts(normalize = True))\n",
    "    print('\\n')"
   ]
  },
  {
   "cell_type": "code",
   "execution_count": 18,
   "metadata": {},
   "outputs": [
    {
     "data": {
      "text/plain": [
       "['garage_yr_blt',\n",
       " 'mas_vnr_area',\n",
       " 'year_built',\n",
       " 'year_remod/add',\n",
       " 'gr_liv_area',\n",
       " '1st_flr_sf',\n",
       " 'total_bsmt_sf',\n",
       " 'totrms_abvgrd',\n",
       " 'garage_cars',\n",
       " 'garage_area',\n",
       " 'overall_qual',\n",
       " 'full_bath']"
      ]
     },
     "execution_count": 18,
     "metadata": {},
     "output_type": "execute_result"
    }
   ],
   "source": [
    "# Numerical columns\n",
    "\n",
    "numeric_columns = list(X._get_numeric_data().columns)\n",
    "numeric_columns"
   ]
  },
  {
   "cell_type": "code",
   "execution_count": 19,
   "metadata": {},
   "outputs": [],
   "source": [
    "# Preprocessing Pipeline\n",
    "from sklearn.compose import ColumnTransformer \n",
    "from sklearn.preprocessing import StandardScaler \n",
    "from sklearn.preprocessing import OneHotEncoder\n",
    "\n",
    "ct = ColumnTransformer(\n",
    "    [('scaling', StandardScaler(), numeric_columns),\n",
    "     ('onehot', OneHotEncoder(sparse = False), categorical_columns)]\n",
    ")\n",
    "\n",
    "X_train_t = ct.fit_transform(X_train)\n",
    "X_test_t = ct.transform(X_test)"
   ]
  },
  {
   "cell_type": "code",
   "execution_count": 20,
   "metadata": {},
   "outputs": [
    {
     "data": {
      "text/plain": [
       "(1402, 104)"
      ]
     },
     "execution_count": 20,
     "metadata": {},
     "output_type": "execute_result"
    }
   ],
   "source": [
    "X_train_t.shape"
   ]
  },
  {
   "cell_type": "code",
   "execution_count": 21,
   "metadata": {},
   "outputs": [
    {
     "data": {
      "text/plain": [
       "(468, 104)"
      ]
     },
     "execution_count": 21,
     "metadata": {},
     "output_type": "execute_result"
    }
   ],
   "source": [
    "X_test_t.shape"
   ]
  },
  {
   "cell_type": "markdown",
   "metadata": {},
   "source": [
    "## k-Nearest Neighbors Regressor"
   ]
  },
  {
   "cell_type": "code",
   "execution_count": 22,
   "metadata": {},
   "outputs": [],
   "source": [
    "# knn regressor\n",
    "from sklearn.neighbors import KNeighborsRegressor\n",
    "\n",
    "knn = KNeighborsRegressor()"
   ]
  },
  {
   "cell_type": "code",
   "execution_count": 23,
   "metadata": {},
   "outputs": [
    {
     "data": {
      "text/plain": [
       "KNeighborsRegressor(algorithm='auto', leaf_size=30, metric='minkowski',\n",
       "                    metric_params=None, n_jobs=None, n_neighbors=5, p=2,\n",
       "                    weights='uniform')"
      ]
     },
     "execution_count": 23,
     "metadata": {},
     "output_type": "execute_result"
    }
   ],
   "source": [
    "knn.fit(X_train_t, y_train)"
   ]
  },
  {
   "cell_type": "code",
   "execution_count": 24,
   "metadata": {},
   "outputs": [],
   "source": [
    "y_train_pred = knn.predict(X_train_t)"
   ]
  },
  {
   "cell_type": "code",
   "execution_count": 25,
   "metadata": {
    "scrolled": true
   },
   "outputs": [
    {
     "data": {
      "text/plain": [
       "0.8949804987715361"
      ]
     },
     "execution_count": 25,
     "metadata": {},
     "output_type": "execute_result"
    }
   ],
   "source": [
    "knn.score(X_train_t,y_train)"
   ]
  },
  {
   "cell_type": "code",
   "execution_count": 26,
   "metadata": {},
   "outputs": [
    {
     "data": {
      "text/plain": [
       "<matplotlib.axes._subplots.AxesSubplot at 0x1d7a6315608>"
      ]
     },
     "execution_count": 26,
     "metadata": {},
     "output_type": "execute_result"
    },
    {
     "data": {
      "image/png": "[encoded data removed]",
      "text/plain": [
       "<Figure size 432x288 with 1 Axes>"
      ]
     },
     "metadata": {
      "needs_background": "light"
     },
     "output_type": "display_data"
    }
   ],
   "source": [
    "sns.distplot(y_train_pred - y_train)"
   ]
  },
  {
   "cell_type": "code",
   "execution_count": 27,
   "metadata": {
    "scrolled": false
   },
   "outputs": [
    {
     "data": {
      "text/plain": [
       "Text(0, 0.5, 'Predicted Sale Price')"
      ]
     },
     "execution_count": 27,
     "metadata": {},
     "output_type": "execute_result"
    },
    {
     "data": {
      "image/png": "[encoded data removed]",
      "text/plain": [
       "<Figure size 720x720 with 1 Axes>"
      ]
     },
     "metadata": {
      "needs_background": "light"
     },
     "output_type": "display_data"
    }
   ],
   "source": [
    "fig, ax = plt.subplots(figsize = (10,10))\n",
    "\n",
    "plt.scatter(y_train, y_train_pred)\n",
    "\n",
    "# Generate a line with unit slope and 0 intercept.\n",
    "plt.plot(y_train, y_train, color = 'red');\n",
    "\n",
    "\n",
    "# Label Axes\n",
    "ax.set_title('True Sale Price vs. Predicted Sale Price (Training Data)', fontsize = 18)\n",
    "ax.set_xlabel('True Sale Price', fontsize = 16)\n",
    "ax.set_ylabel('Predicted Sale Price', fontsize = 16)\n"
   ]
  },
  {
   "cell_type": "code",
   "execution_count": 28,
   "metadata": {},
   "outputs": [],
   "source": [
    "pred_test_knn = knn.predict(X_test_t)"
   ]
  },
  {
   "cell_type": "code",
   "execution_count": 29,
   "metadata": {},
   "outputs": [
    {
     "data": {
      "text/plain": [
       "0.8389747762692137"
      ]
     },
     "execution_count": 29,
     "metadata": {},
     "output_type": "execute_result"
    }
   ],
   "source": [
    "knn.score(X_test_t,y_test)"
   ]
  },
  {
   "cell_type": "code",
   "execution_count": 30,
   "metadata": {
    "scrolled": false
   },
   "outputs": [
    {
     "data": {
      "text/plain": [
       "Text(0.5, 0, 'Sale Price')"
      ]
     },
     "execution_count": 30,
     "metadata": {},
     "output_type": "execute_result"
    },
    {
     "data": {
      "image/png": "[encoded data removed]",
      "text/plain": [
       "<Figure size 720x720 with 1 Axes>"
      ]
     },
     "metadata": {
      "needs_background": "light"
     },
     "output_type": "display_data"
    }
   ],
   "source": [
    "fig, ax = plt.subplots(figsize = (10, 10))\n",
    "sns.distplot(y_test - pred_test_knn, ax = ax)\n",
    "\n",
    "ax.set_title('Distribution of Errors', fontsize = 18)\n",
    "ax.set_xlabel('Sale Price', fontsize = 16)"
   ]
  },
  {
   "cell_type": "code",
   "execution_count": 31,
   "metadata": {
    "scrolled": false
   },
   "outputs": [
    {
     "data": {
      "text/plain": [
       "Text(0, 0.5, 'Predicted Sale Price')"
      ]
     },
     "execution_count": 31,
     "metadata": {},
     "output_type": "execute_result"
    },
    {
     "data": {
      "image/png": "[encoded data removed]",
      "text/plain": [
       "<Figure size 720x720 with 1 Axes>"
      ]
     },
     "metadata": {
      "needs_background": "light"
     },
     "output_type": "display_data"
    }
   ],
   "source": [
    "fig, ax = plt.subplots(figsize = (10,10))\n",
    "\n",
    "plt.scatter(y_test, pred_test_knn)\n",
    "\n",
    "# Generate a line with unit slope and 0 intercept.\n",
    "plt.plot(y_test, y_test, color = 'red');\n",
    "\n",
    "\n",
    "# Label Axes\n",
    "ax.set_title('True Sale Price vs. Predicted Sale Price (Test Data)', fontsize = 24)\n",
    "ax.set_xlabel('True Sale Price', fontsize = 16)\n",
    "ax.set_ylabel('Predicted Sale Price', fontsize = 16)\n"
   ]
  },
  {
   "cell_type": "code",
   "execution_count": 32,
   "metadata": {},
   "outputs": [
    {
     "data": {
      "text/plain": [
       "0.8389747762692137"
      ]
     },
     "execution_count": 32,
     "metadata": {},
     "output_type": "execute_result"
    }
   ],
   "source": [
    "knn.score(X_test_t, y_test)"
   ]
  },
  {
   "cell_type": "markdown",
   "metadata": {},
   "source": [
    "## Linear Regression"
   ]
  },
  {
   "cell_type": "code",
   "execution_count": 33,
   "metadata": {},
   "outputs": [],
   "source": [
    "from sklearn.linear_model import LinearRegression\n",
    "\n",
    "lr = LinearRegression()"
   ]
  },
  {
   "cell_type": "code",
   "execution_count": 34,
   "metadata": {},
   "outputs": [],
   "source": [
    "lr.fit(X_train_t, y_train)\n",
    "train_pred_lr = lr.predict(X_train_t)"
   ]
  },
  {
   "cell_type": "code",
   "execution_count": 35,
   "metadata": {},
   "outputs": [
    {
     "data": {
      "text/plain": [
       "Index(['garage_yr_blt', 'mas_vnr_area', 'year_built', 'year_remod/add',\n",
       "       'gr_liv_area', '1st_flr_sf', 'total_bsmt_sf', 'totrms_abvgrd',\n",
       "       'garage_cars', 'garage_area', 'overall_qual', 'full_bath',\n",
       "       'mas_vnr_type', 'garage_finish', 'heating_qc', 'lot_shape',\n",
       "       'fireplace_qu', 'season_sold', 'house_style', 'exter_qual',\n",
       "       'foundation', 'bsmt_qual', 'kitchen_qual', 'neighborhood',\n",
       "       'garage_type', 'bsmtfin_type_1'],\n",
       "      dtype='object')"
      ]
     },
     "execution_count": 35,
     "metadata": {},
     "output_type": "execute_result"
    }
   ],
   "source": [
    "X_train.columns"
   ]
  },
  {
   "cell_type": "code",
   "execution_count": 36,
   "metadata": {
    "scrolled": true
   },
   "outputs": [
    {
     "data": {
      "text/plain": [
       "0.8700965384786041"
      ]
     },
     "execution_count": 36,
     "metadata": {},
     "output_type": "execute_result"
    }
   ],
   "source": [
    "lr.score(X_train_t,y_train)"
   ]
  },
  {
   "cell_type": "code",
   "execution_count": 37,
   "metadata": {
    "scrolled": false
   },
   "outputs": [
    {
     "data": {
      "text/plain": [
       "Text(0, 0.5, 'Predicted Sale Price')"
      ]
     },
     "execution_count": 37,
     "metadata": {},
     "output_type": "execute_result"
    },
    {
     "data": {
      "image/png": "[encoded data removed]",
      "text/plain": [
       "<Figure size 720x720 with 1 Axes>"
      ]
     },
     "metadata": {
      "needs_background": "light"
     },
     "output_type": "display_data"
    }
   ],
   "source": [
    "fig, ax = plt.subplots(figsize = (10,10))\n",
    "\n",
    "plt.scatter(y_train, train_pred_lr)\n",
    "\n",
    "# Generate a line with unit slope and 0 intercept.\n",
    "plt.plot(y_test, y_test, color = 'red');\n",
    "\n",
    "\n",
    "# Label Axes\n",
    "ax.set_title('True Sale Price vs. Predicted Sale Price (Training Data)', fontsize = 18)\n",
    "ax.set_xlabel('True Sale Price', fontsize = 16)\n",
    "ax.set_ylabel('Predicted Sale Price', fontsize = 16)\n"
   ]
  },
  {
   "cell_type": "code",
   "execution_count": 38,
   "metadata": {
    "scrolled": false
   },
   "outputs": [
    {
     "data": {
      "text/plain": [
       "Text(0.5, 0, 'Sale Price')"
      ]
     },
     "execution_count": 38,
     "metadata": {},
     "output_type": "execute_result"
    },
    {
     "data": {
      "image/png": "[encoded data removed]",
      "text/plain": [
       "<Figure size 720x720 with 1 Axes>"
      ]
     },
     "metadata": {
      "needs_background": "light"
     },
     "output_type": "display_data"
    }
   ],
   "source": [
    "pred_test_lr = lr.predict(X_test_t)\n",
    "\n",
    "fig, ax = plt.subplots(figsize = (10, 10))\n",
    "sns.distplot(pred_test_lr - y_test)\n",
    "\n",
    "ax.set_title('Distribution of Errors', fontsize = 18)\n",
    "ax.set_xlabel('Sale Price', fontsize = 16)"
   ]
  },
  {
   "cell_type": "code",
   "execution_count": 39,
   "metadata": {},
   "outputs": [
    {
     "data": {
      "text/plain": [
       "0.8304992043225331"
      ]
     },
     "execution_count": 39,
     "metadata": {},
     "output_type": "execute_result"
    }
   ],
   "source": [
    "lr.score(X_test_t, y_test)"
   ]
  },
  {
   "cell_type": "code",
   "execution_count": 40,
   "metadata": {
    "scrolled": false
   },
   "outputs": [
    {
     "data": {
      "text/plain": [
       "Text(0, 0.5, 'Predicted Sale Price')"
      ]
     },
     "execution_count": 40,
     "metadata": {},
     "output_type": "execute_result"
    },
    {
     "data": {
      "image/png": "[encoded data removed]",
      "text/plain": [
       "<Figure size 720x720 with 1 Axes>"
      ]
     },
     "metadata": {
      "needs_background": "light"
     },
     "output_type": "display_data"
    }
   ],
   "source": [
    "fig, ax = plt.subplots(figsize = (10,10))\n",
    "\n",
    "plt.scatter(y_test, pred_test_lr)\n",
    "\n",
    "# Generate a line with unit slope and 0 intercept.\n",
    "plt.plot(y_test, y_test, color = 'red');\n",
    "\n",
    "\n",
    "# Label Axes\n",
    "ax.set_title('True Sale Price vs. Predicted Sale Price', fontsize = 24)\n",
    "ax.set_xlabel('True Sale Price', fontsize = 16)\n",
    "ax.set_ylabel('Predicted Sale Price', fontsize = 16)\n"
   ]
  },
  {
   "cell_type": "markdown",
   "metadata": {},
   "source": [
    "## Ridge Regression"
   ]
  },
  {
   "cell_type": "code",
   "execution_count": 41,
   "metadata": {},
   "outputs": [],
   "source": [
    "from sklearn.linear_model import RidgeCV\n",
    "\n",
    "ridge = RidgeCV(alphas=np.linspace(.1, 10, 100))"
   ]
  },
  {
   "cell_type": "code",
   "execution_count": 42,
   "metadata": {},
   "outputs": [
    {
     "data": {
      "text/plain": [
       "RidgeCV(alphas=array([ 0.1,  0.2,  0.3,  0.4,  0.5,  0.6,  0.7,  0.8,  0.9,  1. ,  1.1,\n",
       "        1.2,  1.3,  1.4,  1.5,  1.6,  1.7,  1.8,  1.9,  2. ,  2.1,  2.2,\n",
       "        2.3,  2.4,  2.5,  2.6,  2.7,  2.8,  2.9,  3. ,  3.1,  3.2,  3.3,\n",
       "        3.4,  3.5,  3.6,  3.7,  3.8,  3.9,  4. ,  4.1,  4.2,  4.3,  4.4,\n",
       "        4.5,  4.6,  4.7,  4.8,  4.9,  5. ,  5.1,  5.2,  5.3,  5.4,  5.5,\n",
       "        5.6,  5.7,  5.8,  5.9,  6. ,  6.1,  6.2,  6.3,  6.4,  6.5,  6.6,\n",
       "        6.7,  6.8,  6.9,  7. ,  7.1,  7.2,  7.3,  7.4,  7.5,  7.6,  7.7,\n",
       "        7.8,  7.9,  8. ,  8.1,  8.2,  8.3,  8.4,  8.5,  8.6,  8.7,  8.8,\n",
       "        8.9,  9. ,  9.1,  9.2,  9.3,  9.4,  9.5,  9.6,  9.7,  9.8,  9.9,\n",
       "       10. ]),\n",
       "        cv=None, fit_intercept=True, gcv_mode=None, normalize=False,\n",
       "        scoring=None, store_cv_values=False)"
      ]
     },
     "execution_count": 42,
     "metadata": {},
     "output_type": "execute_result"
    }
   ],
   "source": [
    "ridge.fit(X_train_t,y_train)"
   ]
  },
  {
   "cell_type": "code",
   "execution_count": 43,
   "metadata": {},
   "outputs": [
    {
     "data": {
      "text/plain": [
       "0.8662519833934564"
      ]
     },
     "execution_count": 43,
     "metadata": {},
     "output_type": "execute_result"
    }
   ],
   "source": [
    "ridge.score(X_train_t, y_train)"
   ]
  },
  {
   "cell_type": "code",
   "execution_count": 44,
   "metadata": {},
   "outputs": [
    {
     "data": {
      "text/plain": [
       "0.8275861193465592"
      ]
     },
     "execution_count": 44,
     "metadata": {},
     "output_type": "execute_result"
    }
   ],
   "source": [
    "ridge.score(X_test_t, y_test)"
   ]
  },
  {
   "cell_type": "code",
   "execution_count": 45,
   "metadata": {
    "scrolled": false
   },
   "outputs": [
    {
     "data": {
      "text/plain": [
       "array([ -3230.97755779,   4225.80973763,   3709.33580189,   5215.79202222,\n",
       "        20253.22605899,    212.68901067,   8830.47504747,   -124.04664385,\n",
       "          690.32596115,   8798.61212338,  13235.86935032,   -724.71803252,\n",
       "        -6968.46064587,  -1708.44017691,   4306.48932951,   4370.41149327,\n",
       "         2774.08976385,   -939.4082086 ,  -1834.68155524,   1699.77961658,\n",
       "        -1762.37402048,   1743.28746748,   1283.35585663,  -2964.04892021,\n",
       "          935.72749025,   7430.24017   ,  -6959.19144627,  -1406.77621398,\n",
       "         9171.4573241 ,  -1746.46491543,   1989.29112679,  -7772.63487388,\n",
       "        -2554.16760389,    912.5189423 ,  -1406.491164  ,  -1771.42257033,\n",
       "          923.3815429 ,   2254.53219143,  -1211.98817651,   1676.71113582,\n",
       "          524.7134767 ,  -9118.62215354,   2747.42184016,   -745.62925795,\n",
       "         4101.30909372,   2026.08404159,  21406.11637579, -10611.95224082,\n",
       "        -4291.09094764,  -6503.07318733,  -4146.50850564,   -608.48792304,\n",
       "         3031.19914038,   -121.11877399,   1844.91606229,  16511.07217855,\n",
       "        -4029.44440658,  -7077.35333544,    394.32721101,  -5798.60164755,\n",
       "        16065.05437942,  -3982.30951066,  -4007.86558244,  -8074.87928633,\n",
       "        -9981.20301204, -10278.81996002, -10908.29158534,   1152.02137026,\n",
       "        14976.85085892,  -1277.5917225 ,  16748.95649598, -10086.8898753 ,\n",
       "        -3738.72233833,  -3305.45185231,  12955.29880741,  -8424.44797341,\n",
       "        -2512.58722713, -14611.46830618,  -4215.15890076,  -3460.20823809,\n",
       "        -9548.98259944,  -5146.78227034,  21065.89480036,  15817.85471776,\n",
       "       -10997.65500677,  -4759.69193857,  -1190.25377036,  -2659.77253943,\n",
       "         1155.24977813,  25616.50874996,   2610.96479122,   5004.37874629,\n",
       "        -6242.59074027,   5461.81143884,  -2878.03639027,   9536.52886659,\n",
       "        -6070.58907494,    192.87590006,   4157.02890635,   2120.17930593,\n",
       "         6264.70596012,  -3649.05348426,    -63.61822552,  -8829.24246262])"
      ]
     },
     "execution_count": 45,
     "metadata": {},
     "output_type": "execute_result"
    }
   ],
   "source": [
    "ridge.coef_"
   ]
  },
  {
   "cell_type": "code",
   "execution_count": 46,
   "metadata": {},
   "outputs": [
    {
     "data": {
      "text/plain": [
       "Text(0, 0.5, 'Predicted Sale Price')"
      ]
     },
     "execution_count": 46,
     "metadata": {},
     "output_type": "execute_result"
    },
    {
     "data": {
      "image/png": "[encoded data removed]",
      "text/plain": [
       "<Figure size 720x720 with 1 Axes>"
      ]
     },
     "metadata": {
      "needs_background": "light"
     },
     "output_type": "display_data"
    }
   ],
   "source": [
    "pred_test_ridge = ridge.predict(X_test_t)\n",
    "\n",
    "\n",
    "fig, ax = plt.subplots(figsize = (10,10))\n",
    "\n",
    "plt.scatter(y_test, pred_test_ridge)\n",
    "\n",
    "# Generate a line with unit slope and 0 intercept.\n",
    "plt.plot(y_test, y_test, color = 'red');\n",
    "\n",
    "\n",
    "# Label Axes\n",
    "ax.set_title('True Sale Price vs. Predicted Sale Price (Ridge Regressor)', fontsize = 24)\n",
    "ax.set_xlabel('True Sale Price', fontsize = 16)\n",
    "ax.set_ylabel('Predicted Sale Price', fontsize = 16)\n"
   ]
  },
  {
   "cell_type": "markdown",
   "metadata": {},
   "source": [
    "## LASSO Regression"
   ]
  },
  {
   "cell_type": "code",
   "execution_count": 47,
   "metadata": {},
   "outputs": [],
   "source": [
    "from sklearn.linear_model import LassoCV\n",
    "\n",
    "lasso = LassoCV(n_alphas = 100)"
   ]
  },
  {
   "cell_type": "code",
   "execution_count": 48,
   "metadata": {},
   "outputs": [
    {
     "data": {
      "text/plain": [
       "LassoCV(alphas=None, copy_X=True, cv=None, eps=0.001, fit_intercept=True,\n",
       "        max_iter=1000, n_alphas=100, n_jobs=None, normalize=False,\n",
       "        positive=False, precompute='auto', random_state=None,\n",
       "        selection='cyclic', tol=0.0001, verbose=False)"
      ]
     },
     "execution_count": 48,
     "metadata": {},
     "output_type": "execute_result"
    }
   ],
   "source": [
    "lasso.fit(X_train_t, y_train)"
   ]
  },
  {
   "cell_type": "code",
   "execution_count": 49,
   "metadata": {},
   "outputs": [
    {
     "data": {
      "text/plain": [
       "0.8666582877071131"
      ]
     },
     "execution_count": 49,
     "metadata": {},
     "output_type": "execute_result"
    }
   ],
   "source": [
    "lasso.score(X_train_t,y_train)"
   ]
  },
  {
   "cell_type": "code",
   "execution_count": 50,
   "metadata": {
    "scrolled": true
   },
   "outputs": [
    {
     "data": {
      "text/plain": [
       "id\n",
       "1775    330000\n",
       "1158    290000\n",
       "1532    149000\n",
       "1881    139900\n",
       "1553    165500\n",
       "         ...  \n",
       "1076    234250\n",
       "529     291000\n",
       "1404    177000\n",
       "479     184100\n",
       "385     263435\n",
       "Name: saleprice, Length: 1402, dtype: int64"
      ]
     },
     "execution_count": 50,
     "metadata": {},
     "output_type": "execute_result"
    }
   ],
   "source": [
    "y_train"
   ]
  },
  {
   "cell_type": "code",
   "execution_count": 51,
   "metadata": {},
   "outputs": [
    {
     "data": {
      "text/plain": [
       "0.8273089186097808"
      ]
     },
     "execution_count": 51,
     "metadata": {},
     "output_type": "execute_result"
    }
   ],
   "source": [
    "lasso.score(X_test_t,y_test)"
   ]
  },
  {
   "cell_type": "code",
   "execution_count": 52,
   "metadata": {
    "scrolled": false
   },
   "outputs": [
    {
     "data": {
      "text/plain": [
       "array([ -2886.88828306,   3822.39763817,   3598.80890342,   5378.94707407,\n",
       "        19776.56326523,    197.945375  ,   8902.81173178,     -0.        ,\n",
       "          419.30003131,   8947.9170037 ,  12865.89810041,   -575.10603404,\n",
       "        -6083.59421321,  -2151.78565901,   2958.27166718,   2881.66992158,\n",
       "         3403.18413564,      0.        ,   -547.01710363,    248.0574336 ,\n",
       "         -998.07405641,      0.        ,      0.        ,  -4152.88222472,\n",
       "         1344.96818253,   7655.96416203,  -1015.4934947 ,   -470.98521334,\n",
       "         7092.2146776 ,     -0.        ,   1311.91422765,  -8100.61349203,\n",
       "           -0.        ,      0.        ,  -2233.88499355,  -2164.55448847,\n",
       "           50.3946308 ,   1143.04627143,   -704.33590609,      0.        ,\n",
       "            0.        ,  -6857.00368374,      0.        ,   -467.85927064,\n",
       "         1087.93003933,    495.31233096,  30318.22114766,  -6046.74062127,\n",
       "         1843.9380303 ,   -143.71078734,  -3057.29520268,     -0.        ,\n",
       "         3057.9915968 ,      0.        ,      0.        ,  23239.86932709,\n",
       "            0.        ,   -185.51755786,      0.        ,     -0.        ,\n",
       "        20391.57242418,     -0.        ,      0.        ,  -4099.74620558,\n",
       "        -6406.02046208,  -6544.00749579,  -8356.33052325,   2615.72416902,\n",
       "        20141.15427368,   1503.54026474,  21478.67428807,  -6857.37940072,\n",
       "           -0.        ,     -0.        ,  38759.77084064,  -4838.41903272,\n",
       "           -0.        , -15598.97308866,     -0.        ,     -0.        ,\n",
       "        -7273.07452666,   -840.00455238,  28727.02244564,  20564.50072713,\n",
       "        -7679.6979538 ,     -0.        ,    778.13106121,      0.        ,\n",
       "         3894.36989428,  35375.49141919,   4842.39744576,   5756.27997105,\n",
       "        -3718.30901405,   5677.61763083,     -0.        ,   9466.03046146,\n",
       "         -661.84600968,      0.        ,   2798.22003487,    346.17607627,\n",
       "         4948.63959544,  -4016.81655966,   -614.30206427,  -9813.48105421])"
      ]
     },
     "execution_count": 52,
     "metadata": {},
     "output_type": "execute_result"
    }
   ],
   "source": [
    "lasso.coef_"
   ]
  },
  {
   "cell_type": "code",
   "execution_count": 53,
   "metadata": {},
   "outputs": [
    {
     "data": {
      "text/plain": [
       "Text(0, 0.5, 'Predicted Sale Price')"
      ]
     },
     "execution_count": 53,
     "metadata": {},
     "output_type": "execute_result"
    },
    {
     "data": {
      "image/png": "[encoded data removed]",
      "text/plain": [
       "<Figure size 720x720 with 1 Axes>"
      ]
     },
     "metadata": {
      "needs_background": "light"
     },
     "output_type": "display_data"
    }
   ],
   "source": [
    "pred_test_lasso = lasso.predict(X_test_t)\n",
    "\n",
    "\n",
    "fig, ax = plt.subplots(figsize = (10,10))\n",
    "\n",
    "plt.scatter(y_test, pred_test_lasso)\n",
    "\n",
    "# Generate a line with unit slope and 0 intercept.\n",
    "plt.plot(y_test, y_test, color = 'red');\n",
    "\n",
    "\n",
    "# Label Axes\n",
    "ax.set_title('True Sale Price vs. Predicted Sale Price (LASSO Regressor)', fontsize = 24)\n",
    "ax.set_xlabel('True Sale Price', fontsize = 16)\n",
    "ax.set_ylabel('Predicted Sale Price', fontsize = 16)\n"
   ]
  },
  {
   "cell_type": "code",
   "execution_count": 54,
   "metadata": {
    "scrolled": true
   },
   "outputs": [
    {
     "name": "stdout",
     "output_type": "stream",
     "text": [
      "k-Nearest Neighbors R2 score: 0.8389747762692137\n",
      "Ordineary Linear Regression R2 score: 0.8304992043225331\n",
      "LASSO Regression R2 score: 0.8273089186097808\n",
      "Ridge Regression R2 score: 0.8275861193465592\n"
     ]
    }
   ],
   "source": [
    "print(f'k-Nearest Neighbors R2 score: {knn.score(X_test_t,y_test)}')\n",
    "print(f'Ordineary Linear Regression R2 score: {lr.score(X_test_t,y_test)}')\n",
    "print(f'LASSO Regression R2 score: {lasso.score(X_test_t,y_test)}')\n",
    "print(f'Ridge Regression R2 score: {ridge.score(X_test_t,y_test)}')"
   ]
  },
  {
   "cell_type": "markdown",
   "metadata": {},
   "source": [
    "Based on $R^2$-score, the best performing model is the kNN regressor at $84\\%$"
   ]
  },
  {
   "cell_type": "code",
   "execution_count": 55,
   "metadata": {
    "scrolled": true
   },
   "outputs": [
    {
     "name": "stdout",
     "output_type": "stream",
     "text": [
      "k-Nearest Neighbors Mean Abolute Error: 20432.65170940171\n",
      "OLS Regression Mean Abolute Error: 18908.916666666668\n",
      "Lasso Regression Mean Abolute Error: 18807.47879454832\n",
      "Ridge Mean Abolute Error: 18809.113561829618\n"
     ]
    }
   ],
   "source": [
    "# Let's use some other metrics to evaluate our model\n",
    "from sklearn.metrics import mean_absolute_error, mean_squared_error\n",
    "\n",
    "print(f'k-Nearest Neighbors Mean Abolute Error: {mean_absolute_error(y_test,pred_test_knn)}')\n",
    "print(f'OLS Regression Mean Abolute Error: {mean_absolute_error(y_test,pred_test_lr)}')\n",
    "print(f'Lasso Regression Mean Abolute Error: {mean_absolute_error(y_test,pred_test_lasso)}')\n",
    "print(f'Ridge Mean Abolute Error: {mean_absolute_error(y_test,pred_test_ridge)}')"
   ]
  },
  {
   "cell_type": "markdown",
   "metadata": {},
   "source": [
    "The model that minimizes mean absolute error is Lasso at about $18,807$"
   ]
  },
  {
   "cell_type": "code",
   "execution_count": 56,
   "metadata": {},
   "outputs": [
    {
     "name": "stdout",
     "output_type": "stream",
     "text": [
      "k-Nearest Neighbors Mean Squared Error: 1146395582.2491453\n",
      "OLS Regression Mean Squared Error: 1206736179.8995726\n",
      "Lasso Regression Mean Squared Error: 1229448953.4792342\n",
      "Ridge Mean Squared Error: 1227475463.2851124\n"
     ]
    }
   ],
   "source": [
    "print(f'k-Nearest Neighbors Mean Squared Error: {mean_squared_error(y_test,pred_test_knn)}')\n",
    "print(f'OLS Regression Mean Squared Error: {mean_squared_error(y_test,pred_test_lr)}')\n",
    "print(f'Lasso Regression Mean Squared Error: {mean_squared_error(y_test,pred_test_lasso)}')\n",
    "print(f'Ridge Mean Squared Error: {mean_squared_error(y_test,pred_test_ridge)}')"
   ]
  },
  {
   "cell_type": "code",
   "execution_count": 57,
   "metadata": {},
   "outputs": [
    {
     "data": {
      "text/plain": [
       "1146395582.2491453"
      ]
     },
     "execution_count": 57,
     "metadata": {},
     "output_type": "execute_result"
    }
   ],
   "source": [
    "min([mean_squared_error(y_test,pred_test_knn),mean_squared_error(y_test,pred_test_lr),\n",
    " mean_squared_error(y_test,pred_test_lasso),mean_squared_error(y_test,pred_test_ridge)])"
   ]
  },
  {
   "cell_type": "markdown",
   "metadata": {},
   "source": [
    "The model minimizing mean squared error is the k-Nearest Neighbors regressor."
   ]
  },
  {
   "cell_type": "markdown",
   "metadata": {},
   "source": [
    "## Conclusions (Round 1)\n",
    "\n",
    "k-nearest neighbors is the 'best' model that maximizes $R^2$ score and minimizes mean squared error. However, for a model that balances interperatibility and accuracy, LASSO would be best."
   ]
  },
  {
   "cell_type": "markdown",
   "metadata": {},
   "source": [
    "## Hyperparameter Tuning\n",
    "\n",
    "Let's see if we get better results using gridsearch."
   ]
  },
  {
   "cell_type": "code",
   "execution_count": 58,
   "metadata": {},
   "outputs": [],
   "source": [
    "# Import GridSearchCV\n",
    "from sklearn.model_selection import GridSearchCV\n",
    "\n",
    "# Import Pipeline\n",
    "from sklearn.pipeline import Pipeline"
   ]
  },
  {
   "cell_type": "markdown",
   "metadata": {},
   "source": [
    "### k-Nearest Neighbors"
   ]
  },
  {
   "cell_type": "code",
   "execution_count": 59,
   "metadata": {
    "scrolled": false
   },
   "outputs": [
    {
     "name": "stdout",
     "output_type": "stream",
     "text": [
      "Fitting 5 folds for each of 20 candidates, totalling 100 fits\n"
     ]
    },
    {
     "name": "stderr",
     "output_type": "stream",
     "text": [
      "[Parallel(n_jobs=1)]: Using backend SequentialBackend with 1 concurrent workers.\n",
      "[Parallel(n_jobs=1)]: Done 100 out of 100 | elapsed:    8.8s finished\n"
     ]
    },
    {
     "data": {
      "text/plain": [
       "GridSearchCV(cv=5, error_score=nan,\n",
       "             estimator=KNeighborsRegressor(algorithm='auto', leaf_size=30,\n",
       "                                           metric='minkowski',\n",
       "                                           metric_params=None, n_jobs=None,\n",
       "                                           n_neighbors=5, p=2,\n",
       "                                           weights='uniform'),\n",
       "             iid='deprecated', n_jobs=None,\n",
       "             param_grid={'n_neighbors': range(1, 51, 10), 'p': [1, 2],\n",
       "                         'weights': ['uniform', 'distance']},\n",
       "             pre_dispatch='2*n_jobs', refit=True, return_train_score=False,\n",
       "             scoring=None, verbose=1)"
      ]
     },
     "execution_count": 59,
     "metadata": {},
     "output_type": "execute_result"
    }
   ],
   "source": [
    "# Define dictionary of hyperparameters.\n",
    "knn_params = {\n",
    "    'n_neighbors': range(1, 51, 10),\n",
    "    'weights':['uniform','distance'],\n",
    "    'p':[1,2]\n",
    "}\n",
    "\n",
    "# Instantiate our GridSearchCV object.\n",
    "knn_gridsearch = GridSearchCV(KNeighborsRegressor(), # What is the model we want to fit?\n",
    "                             knn_params, # What is the dictionary of hyperparameters?\n",
    "                              cv = 5, # What number of folds in CV will we use?\n",
    "                              verbose=1)\n",
    "\n",
    "# Fit the GridSearchCV object to the data.\n",
    "knn_gridsearch.fit(X_train_t, y_train)"
   ]
  },
  {
   "cell_type": "code",
   "execution_count": 60,
   "metadata": {},
   "outputs": [
    {
     "data": {
      "text/plain": [
       "0.8478398722767256"
      ]
     },
     "execution_count": 60,
     "metadata": {},
     "output_type": "execute_result"
    }
   ],
   "source": [
    "knn_gridsearch.best_score_\n"
   ]
  },
  {
   "cell_type": "code",
   "execution_count": 61,
   "metadata": {},
   "outputs": [
    {
     "data": {
      "text/plain": [
       "0.8394052241193709"
      ]
     },
     "execution_count": 61,
     "metadata": {},
     "output_type": "execute_result"
    }
   ],
   "source": [
    "# KNN Gridsearch \n",
    "knn_gridsearch.score(X_test_t, y_test)"
   ]
  },
  {
   "cell_type": "code",
   "execution_count": 62,
   "metadata": {},
   "outputs": [
    {
     "data": {
      "text/plain": [
       "{'n_neighbors': 11, 'p': 2, 'weights': 'distance'}"
      ]
     },
     "execution_count": 62,
     "metadata": {},
     "output_type": "execute_result"
    }
   ],
   "source": [
    "# Print out the set of hyperparameters that achieved the best score.\n",
    "knn_gridsearch.best_params_"
   ]
  },
  {
   "cell_type": "code",
   "execution_count": 63,
   "metadata": {},
   "outputs": [
    {
     "data": {
      "text/plain": [
       "0.8394052241193709"
      ]
     },
     "execution_count": 63,
     "metadata": {},
     "output_type": "execute_result"
    }
   ],
   "source": [
    "# Store the best fit model as best_knn.\n",
    "best_knn = knn_gridsearch.best_estimator_\n",
    "\n",
    "# Evaluate the best fit model on the test data.\n",
    "best_knn.score(X_test_t, y_test)"
   ]
  },
  {
   "cell_type": "markdown",
   "metadata": {},
   "source": [
    "### Lasso"
   ]
  },
  {
   "cell_type": "code",
   "execution_count": 64,
   "metadata": {},
   "outputs": [],
   "source": [
    "# \n",
    "from sklearn.linear_model import LassoCV\n",
    "\n",
    "# Define dictionary of hyperparameters.\n",
    "lasso_cv = LassoCV()\n",
    "\n",
    "# Fit the GridSearchCV object to the data.\n",
    "lasso_cv.fit(X_train_t, y_train)\n",
    "pred_train_lasso = lasso_cv.predict(X_train_t)"
   ]
  },
  {
   "cell_type": "code",
   "execution_count": 65,
   "metadata": {
    "scrolled": true
   },
   "outputs": [
    {
     "data": {
      "text/plain": [
       "0.8666582877071131"
      ]
     },
     "execution_count": 65,
     "metadata": {},
     "output_type": "execute_result"
    }
   ],
   "source": [
    "lasso_cv.score(X_train_t, y_train)"
   ]
  },
  {
   "cell_type": "code",
   "execution_count": 66,
   "metadata": {},
   "outputs": [
    {
     "data": {
      "text/plain": [
       "0.8273089186097808"
      ]
     },
     "execution_count": 66,
     "metadata": {},
     "output_type": "execute_result"
    }
   ],
   "source": [
    "lasso_cv.score(X_test_t, y_test)"
   ]
  },
  {
   "cell_type": "code",
   "execution_count": 67,
   "metadata": {
    "scrolled": true
   },
   "outputs": [
    {
     "data": {
      "text/plain": [
       "array([ -2886.88828306,   3822.39763817,   3598.80890342,   5378.94707407,\n",
       "        19776.56326523,    197.945375  ,   8902.81173178,     -0.        ,\n",
       "          419.30003131,   8947.9170037 ,  12865.89810041,   -575.10603404,\n",
       "        -6083.59421321,  -2151.78565901,   2958.27166718,   2881.66992158,\n",
       "         3403.18413564,      0.        ,   -547.01710363,    248.0574336 ,\n",
       "         -998.07405641,      0.        ,      0.        ,  -4152.88222472,\n",
       "         1344.96818253,   7655.96416203,  -1015.4934947 ,   -470.98521334,\n",
       "         7092.2146776 ,     -0.        ,   1311.91422765,  -8100.61349203,\n",
       "           -0.        ,      0.        ,  -2233.88499355,  -2164.55448847,\n",
       "           50.3946308 ,   1143.04627143,   -704.33590609,      0.        ,\n",
       "            0.        ,  -6857.00368374,      0.        ,   -467.85927064,\n",
       "         1087.93003933,    495.31233096,  30318.22114766,  -6046.74062127,\n",
       "         1843.9380303 ,   -143.71078734,  -3057.29520268,     -0.        ,\n",
       "         3057.9915968 ,      0.        ,      0.        ,  23239.86932709,\n",
       "            0.        ,   -185.51755786,      0.        ,     -0.        ,\n",
       "        20391.57242418,     -0.        ,      0.        ,  -4099.74620558,\n",
       "        -6406.02046208,  -6544.00749579,  -8356.33052325,   2615.72416902,\n",
       "        20141.15427368,   1503.54026474,  21478.67428807,  -6857.37940072,\n",
       "           -0.        ,     -0.        ,  38759.77084064,  -4838.41903272,\n",
       "           -0.        , -15598.97308866,     -0.        ,     -0.        ,\n",
       "        -7273.07452666,   -840.00455238,  28727.02244564,  20564.50072713,\n",
       "        -7679.6979538 ,     -0.        ,    778.13106121,      0.        ,\n",
       "         3894.36989428,  35375.49141919,   4842.39744576,   5756.27997105,\n",
       "        -3718.30901405,   5677.61763083,     -0.        ,   9466.03046146,\n",
       "         -661.84600968,      0.        ,   2798.22003487,    346.17607627,\n",
       "         4948.63959544,  -4016.81655966,   -614.30206427,  -9813.48105421])"
      ]
     },
     "execution_count": 67,
     "metadata": {},
     "output_type": "execute_result"
    }
   ],
   "source": [
    "lasso_cv.coef_"
   ]
  },
  {
   "cell_type": "markdown",
   "metadata": {},
   "source": [
    "## Kaggle Submission\n",
    "\n",
    "### Model Winner\n",
    "\n",
    "The winning model that we will use for our Kaggle submission is the k-Nearest Neighbors' Regressor.\n",
    "\n",
    "In this final section, we will import `test.csv`"
   ]
  },
  {
   "cell_type": "code",
   "execution_count": 68,
   "metadata": {},
   "outputs": [
    {
     "name": "stdout",
     "output_type": "stream",
     "text": [
      "<class 'pandas.core.frame.DataFrame'>\n",
      "Int64Index: 878 entries, 2658 to 1939\n",
      "Data columns (total 28 columns):\n",
      " #   Column          Non-Null Count  Dtype  \n",
      "---  ------          --------------  -----  \n",
      " 0   garage_yr_blt   878 non-null    float64\n",
      " 1   mas_vnr_area    878 non-null    float64\n",
      " 2   year_built      878 non-null    int64  \n",
      " 3   exterior_1st    878 non-null    object \n",
      " 4   lot_shape       878 non-null    object \n",
      " 5   year_remod/add  878 non-null    int64  \n",
      " 6   fireplace_qu    878 non-null    object \n",
      " 7   1st_flr_sf      878 non-null    int64  \n",
      " 8   total_bsmt_sf   878 non-null    int64  \n",
      " 9   house_style     878 non-null    object \n",
      " 10  exter_qual      878 non-null    object \n",
      " 11  neighborhood    878 non-null    object \n",
      " 12  overall_qual    878 non-null    int64  \n",
      " 13  season_sold     878 non-null    object \n",
      " 14  bsmtfin_type_1  878 non-null    object \n",
      " 15  exterior_2nd    878 non-null    object \n",
      " 16  mas_vnr_type    878 non-null    object \n",
      " 17  garage_finish   878 non-null    object \n",
      " 18  heating_qc      878 non-null    object \n",
      " 19  gr_liv_area     878 non-null    int64  \n",
      " 20  totrms_abvgrd   878 non-null    int64  \n",
      " 21  foundation      878 non-null    object \n",
      " 22  garage_cars     878 non-null    int64  \n",
      " 23  bsmt_qual       878 non-null    object \n",
      " 24  kitchen_qual    878 non-null    object \n",
      " 25  garage_area     878 non-null    int64  \n",
      " 26  garage_type     878 non-null    object \n",
      " 27  full_bath       878 non-null    int64  \n",
      "dtypes: float64(2), int64(10), object(16)\n",
      "memory usage: 198.9+ KB\n"
     ]
    }
   ],
   "source": [
    "test_data_path = './datasets/ames_test_cleaned.csv'\n",
    "ames_test = pd.read_csv(test_data_path, index_col = 'id')\n",
    "ames_test.fillna('NA', axis = 1,inplace = True)\n",
    "ames_test.info()"
   ]
  },
  {
   "cell_type": "code",
   "execution_count": 69,
   "metadata": {},
   "outputs": [
    {
     "data": {
      "text/html": [
       "<div>\n",
       "<style scoped>\n",
       "    .dataframe tbody tr th:only-of-type {\n",
       "        vertical-align: middle;\n",
       "    }\n",
       "\n",
       "    .dataframe tbody tr th {\n",
       "        vertical-align: top;\n",
       "    }\n",
       "\n",
       "    .dataframe thead th {\n",
       "        text-align: right;\n",
       "    }\n",
       "</style>\n",
       "<table border=\"1\" class=\"dataframe\">\n",
       "  <thead>\n",
       "    <tr style=\"text-align: right;\">\n",
       "      <th></th>\n",
       "      <th>garage_yr_blt</th>\n",
       "      <th>mas_vnr_area</th>\n",
       "      <th>year_built</th>\n",
       "      <th>exterior_1st</th>\n",
       "      <th>lot_shape</th>\n",
       "      <th>year_remod/add</th>\n",
       "      <th>fireplace_qu</th>\n",
       "      <th>1st_flr_sf</th>\n",
       "      <th>total_bsmt_sf</th>\n",
       "      <th>house_style</th>\n",
       "      <th>...</th>\n",
       "      <th>heating_qc</th>\n",
       "      <th>gr_liv_area</th>\n",
       "      <th>totrms_abvgrd</th>\n",
       "      <th>foundation</th>\n",
       "      <th>garage_cars</th>\n",
       "      <th>bsmt_qual</th>\n",
       "      <th>kitchen_qual</th>\n",
       "      <th>garage_area</th>\n",
       "      <th>garage_type</th>\n",
       "      <th>full_bath</th>\n",
       "    </tr>\n",
       "    <tr>\n",
       "      <th>id</th>\n",
       "      <th></th>\n",
       "      <th></th>\n",
       "      <th></th>\n",
       "      <th></th>\n",
       "      <th></th>\n",
       "      <th></th>\n",
       "      <th></th>\n",
       "      <th></th>\n",
       "      <th></th>\n",
       "      <th></th>\n",
       "      <th></th>\n",
       "      <th></th>\n",
       "      <th></th>\n",
       "      <th></th>\n",
       "      <th></th>\n",
       "      <th></th>\n",
       "      <th></th>\n",
       "      <th></th>\n",
       "      <th></th>\n",
       "      <th></th>\n",
       "      <th></th>\n",
       "    </tr>\n",
       "  </thead>\n",
       "  <tbody>\n",
       "    <tr>\n",
       "      <th>2658</th>\n",
       "      <td>1910.0</td>\n",
       "      <td>0.0</td>\n",
       "      <td>1910</td>\n",
       "      <td>AsbShng</td>\n",
       "      <td>Reg</td>\n",
       "      <td>1950</td>\n",
       "      <td>NA</td>\n",
       "      <td>908</td>\n",
       "      <td>1020</td>\n",
       "      <td>2Story</td>\n",
       "      <td>...</td>\n",
       "      <td>Gd</td>\n",
       "      <td>1928</td>\n",
       "      <td>9</td>\n",
       "      <td>Stone</td>\n",
       "      <td>1</td>\n",
       "      <td>Fa</td>\n",
       "      <td>Fa</td>\n",
       "      <td>440</td>\n",
       "      <td>Detchd</td>\n",
       "      <td>2</td>\n",
       "    </tr>\n",
       "    <tr>\n",
       "      <th>2718</th>\n",
       "      <td>1977.0</td>\n",
       "      <td>0.0</td>\n",
       "      <td>1977</td>\n",
       "      <td>Plywood</td>\n",
       "      <td>IR1</td>\n",
       "      <td>1977</td>\n",
       "      <td>NA</td>\n",
       "      <td>1967</td>\n",
       "      <td>1967</td>\n",
       "      <td>1Story</td>\n",
       "      <td>...</td>\n",
       "      <td>TA</td>\n",
       "      <td>1967</td>\n",
       "      <td>10</td>\n",
       "      <td>CBlock</td>\n",
       "      <td>2</td>\n",
       "      <td>Gd</td>\n",
       "      <td>TA</td>\n",
       "      <td>580</td>\n",
       "      <td>Attchd</td>\n",
       "      <td>2</td>\n",
       "    </tr>\n",
       "    <tr>\n",
       "      <th>2414</th>\n",
       "      <td>2006.0</td>\n",
       "      <td>0.0</td>\n",
       "      <td>2006</td>\n",
       "      <td>VinylSd</td>\n",
       "      <td>IR1</td>\n",
       "      <td>2006</td>\n",
       "      <td>Gd</td>\n",
       "      <td>664</td>\n",
       "      <td>654</td>\n",
       "      <td>2Story</td>\n",
       "      <td>...</td>\n",
       "      <td>Ex</td>\n",
       "      <td>1496</td>\n",
       "      <td>7</td>\n",
       "      <td>PConc</td>\n",
       "      <td>2</td>\n",
       "      <td>Gd</td>\n",
       "      <td>Gd</td>\n",
       "      <td>426</td>\n",
       "      <td>Attchd</td>\n",
       "      <td>2</td>\n",
       "    </tr>\n",
       "    <tr>\n",
       "      <th>1989</th>\n",
       "      <td>1935.0</td>\n",
       "      <td>0.0</td>\n",
       "      <td>1923</td>\n",
       "      <td>Wd Sdng</td>\n",
       "      <td>Reg</td>\n",
       "      <td>2006</td>\n",
       "      <td>NA</td>\n",
       "      <td>968</td>\n",
       "      <td>968</td>\n",
       "      <td>1Story</td>\n",
       "      <td>...</td>\n",
       "      <td>TA</td>\n",
       "      <td>968</td>\n",
       "      <td>5</td>\n",
       "      <td>CBlock</td>\n",
       "      <td>2</td>\n",
       "      <td>TA</td>\n",
       "      <td>TA</td>\n",
       "      <td>480</td>\n",
       "      <td>Detchd</td>\n",
       "      <td>1</td>\n",
       "    </tr>\n",
       "    <tr>\n",
       "      <th>625</th>\n",
       "      <td>1963.0</td>\n",
       "      <td>247.0</td>\n",
       "      <td>1963</td>\n",
       "      <td>Plywood</td>\n",
       "      <td>IR1</td>\n",
       "      <td>1963</td>\n",
       "      <td>Gd</td>\n",
       "      <td>1394</td>\n",
       "      <td>1394</td>\n",
       "      <td>1Story</td>\n",
       "      <td>...</td>\n",
       "      <td>Gd</td>\n",
       "      <td>1394</td>\n",
       "      <td>6</td>\n",
       "      <td>CBlock</td>\n",
       "      <td>2</td>\n",
       "      <td>Gd</td>\n",
       "      <td>TA</td>\n",
       "      <td>514</td>\n",
       "      <td>Attchd</td>\n",
       "      <td>1</td>\n",
       "    </tr>\n",
       "  </tbody>\n",
       "</table>\n",
       "<p>5 rows × 28 columns</p>\n",
       "</div>"
      ],
      "text/plain": [
       "      garage_yr_blt  mas_vnr_area  year_built exterior_1st lot_shape  \\\n",
       "id                                                                     \n",
       "2658         1910.0           0.0        1910      AsbShng       Reg   \n",
       "2718         1977.0           0.0        1977      Plywood       IR1   \n",
       "2414         2006.0           0.0        2006      VinylSd       IR1   \n",
       "1989         1935.0           0.0        1923      Wd Sdng       Reg   \n",
       "625          1963.0         247.0        1963      Plywood       IR1   \n",
       "\n",
       "      year_remod/add fireplace_qu  1st_flr_sf  total_bsmt_sf house_style  ...  \\\n",
       "id                                                                        ...   \n",
       "2658            1950           NA         908           1020      2Story  ...   \n",
       "2718            1977           NA        1967           1967      1Story  ...   \n",
       "2414            2006           Gd         664            654      2Story  ...   \n",
       "1989            2006           NA         968            968      1Story  ...   \n",
       "625             1963           Gd        1394           1394      1Story  ...   \n",
       "\n",
       "     heating_qc gr_liv_area  totrms_abvgrd foundation garage_cars bsmt_qual  \\\n",
       "id                                                                            \n",
       "2658         Gd        1928              9      Stone           1        Fa   \n",
       "2718         TA        1967             10     CBlock           2        Gd   \n",
       "2414         Ex        1496              7      PConc           2        Gd   \n",
       "1989         TA         968              5     CBlock           2        TA   \n",
       "625          Gd        1394              6     CBlock           2        Gd   \n",
       "\n",
       "     kitchen_qual garage_area garage_type  full_bath  \n",
       "id                                                    \n",
       "2658           Fa         440      Detchd          2  \n",
       "2718           TA         580      Attchd          2  \n",
       "2414           Gd         426      Attchd          2  \n",
       "1989           TA         480      Detchd          1  \n",
       "625            TA         514      Attchd          1  \n",
       "\n",
       "[5 rows x 28 columns]"
      ]
     },
     "execution_count": 69,
     "metadata": {},
     "output_type": "execute_result"
    }
   ],
   "source": [
    "ames_test.head()"
   ]
  },
  {
   "cell_type": "code",
   "execution_count": 70,
   "metadata": {},
   "outputs": [],
   "source": [
    "# Use our column transformer from before and use the full training set to fit our model\n",
    "\n",
    "ames_test_t = ct.fit_transform(ames_test)\n",
    "X_t = ct.fit_transform(X)"
   ]
  },
  {
   "cell_type": "code",
   "execution_count": 71,
   "metadata": {},
   "outputs": [
    {
     "data": {
      "text/plain": [
       "{'n_neighbors': 11, 'p': 2, 'weights': 'distance'}"
      ]
     },
     "execution_count": 71,
     "metadata": {},
     "output_type": "execute_result"
    }
   ],
   "source": [
    "# Identify the best parameters to use from before\n",
    "\n",
    "knn_gridsearch.best_params_"
   ]
  },
  {
   "cell_type": "code",
   "execution_count": 72,
   "metadata": {},
   "outputs": [
    {
     "name": "stdout",
     "output_type": "stream",
     "text": [
      "n_neighbors: 11, p: 2, weights: distance\n"
     ]
    }
   ],
   "source": [
    "n_neighbors, p, weights = knn_gridsearch.best_params_.values()\n",
    "print(f'n_neighbors: {n_neighbors}, p: {p}, weights: {weights}')"
   ]
  },
  {
   "cell_type": "code",
   "execution_count": 73,
   "metadata": {},
   "outputs": [],
   "source": [
    "knn_submission = KNeighborsRegressor(n_neighbors = n_neighbors, weights = weights, p = p)"
   ]
  },
  {
   "cell_type": "code",
   "execution_count": 74,
   "metadata": {},
   "outputs": [
    {
     "data": {
      "text/plain": [
       "KNeighborsRegressor(algorithm='auto', leaf_size=30, metric='minkowski',\n",
       "                    metric_params=None, n_jobs=None, n_neighbors=11, p=2,\n",
       "                    weights='distance')"
      ]
     },
     "execution_count": 74,
     "metadata": {},
     "output_type": "execute_result"
    }
   ],
   "source": [
    "knn_submission.fit(X_t, y)"
   ]
  },
  {
   "cell_type": "code",
   "execution_count": 75,
   "metadata": {},
   "outputs": [],
   "source": [
    "y_submit = knn_submission.predict(ames_test_t)"
   ]
  },
  {
   "cell_type": "code",
   "execution_count": 76,
   "metadata": {},
   "outputs": [
    {
     "data": {
      "text/html": [
       "<div>\n",
       "<style scoped>\n",
       "    .dataframe tbody tr th:only-of-type {\n",
       "        vertical-align: middle;\n",
       "    }\n",
       "\n",
       "    .dataframe tbody tr th {\n",
       "        vertical-align: top;\n",
       "    }\n",
       "\n",
       "    .dataframe thead th {\n",
       "        text-align: right;\n",
       "    }\n",
       "</style>\n",
       "<table border=\"1\" class=\"dataframe\">\n",
       "  <thead>\n",
       "    <tr style=\"text-align: right;\">\n",
       "      <th></th>\n",
       "      <th>Id</th>\n",
       "      <th>SalePrice</th>\n",
       "    </tr>\n",
       "  </thead>\n",
       "  <tbody>\n",
       "    <tr>\n",
       "      <th>0</th>\n",
       "      <td>2658</td>\n",
       "      <td>129772.553490</td>\n",
       "    </tr>\n",
       "    <tr>\n",
       "      <th>1</th>\n",
       "      <td>2718</td>\n",
       "      <td>156760.995648</td>\n",
       "    </tr>\n",
       "    <tr>\n",
       "      <th>2</th>\n",
       "      <td>2414</td>\n",
       "      <td>211166.514974</td>\n",
       "    </tr>\n",
       "    <tr>\n",
       "      <th>3</th>\n",
       "      <td>1989</td>\n",
       "      <td>114359.549879</td>\n",
       "    </tr>\n",
       "    <tr>\n",
       "      <th>4</th>\n",
       "      <td>625</td>\n",
       "      <td>173248.368930</td>\n",
       "    </tr>\n",
       "    <tr>\n",
       "      <th>...</th>\n",
       "      <td>...</td>\n",
       "      <td>...</td>\n",
       "    </tr>\n",
       "    <tr>\n",
       "      <th>873</th>\n",
       "      <td>1662</td>\n",
       "      <td>175344.642963</td>\n",
       "    </tr>\n",
       "    <tr>\n",
       "      <th>874</th>\n",
       "      <td>1234</td>\n",
       "      <td>216448.044632</td>\n",
       "    </tr>\n",
       "    <tr>\n",
       "      <th>875</th>\n",
       "      <td>1373</td>\n",
       "      <td>142909.966601</td>\n",
       "    </tr>\n",
       "    <tr>\n",
       "      <th>876</th>\n",
       "      <td>1672</td>\n",
       "      <td>128566.301695</td>\n",
       "    </tr>\n",
       "    <tr>\n",
       "      <th>877</th>\n",
       "      <td>1939</td>\n",
       "      <td>122745.567257</td>\n",
       "    </tr>\n",
       "  </tbody>\n",
       "</table>\n",
       "<p>878 rows × 2 columns</p>\n",
       "</div>"
      ],
      "text/plain": [
       "       Id      SalePrice\n",
       "0    2658  129772.553490\n",
       "1    2718  156760.995648\n",
       "2    2414  211166.514974\n",
       "3    1989  114359.549879\n",
       "4     625  173248.368930\n",
       "..    ...            ...\n",
       "873  1662  175344.642963\n",
       "874  1234  216448.044632\n",
       "875  1373  142909.966601\n",
       "876  1672  128566.301695\n",
       "877  1939  122745.567257\n",
       "\n",
       "[878 rows x 2 columns]"
      ]
     },
     "execution_count": 76,
     "metadata": {},
     "output_type": "execute_result"
    }
   ],
   "source": [
    "submission = pd.DataFrame(zip(ames_test.index,y_submit), columns = ['Id','SalePrice'])\n",
    "submission"
   ]
  },
  {
   "cell_type": "code",
   "execution_count": 77,
   "metadata": {},
   "outputs": [],
   "source": [
    "submission.to_csv('./datasets/dusing_submission.csv', index = False)"
   ]
  }
 ],
 "metadata": {
  "kernelspec": {
   "display_name": "Python 3",
   "language": "python",
   "name": "python3"
  },
  "language_info": {
   "codemirror_mode": {
    "name": "ipython",
    "version": 3
   },
   "file_extension": ".py",
   "mimetype": "text/x-python",
   "name": "python",
   "nbconvert_exporter": "python",
   "pygments_lexer": "ipython3",
   "version": "3.7.7"
  }
 },
 "nbformat": 4,
 "nbformat_minor": 4
}
